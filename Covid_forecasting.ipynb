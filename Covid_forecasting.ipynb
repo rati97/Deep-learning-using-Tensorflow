{
  "nbformat": 4,
  "nbformat_minor": 0,
  "metadata": {
    "colab": {
      "name": "Covid_forecasting.ipynb",
      "provenance": [],
      "collapsed_sections": []
    },
    "kernelspec": {
      "name": "python3",
      "display_name": "Python 3"
    },
    "language_info": {
      "name": "python"
    }
  },
  "cells": [
    {
      "cell_type": "markdown",
      "metadata": {
        "id": "Ja0WwhggMiye"
      },
      "source": [
        "# Forecasting number of Covid-19 cases in Georgia\n",
        "\n",
        "This notebook implements time series forecasting using Tensorflow to predict number of Covid-19 positive cases in Georgia."
      ]
    },
    {
      "cell_type": "markdown",
      "metadata": {
        "id": "lng3075PNQqT"
      },
      "source": [
        "# Download, analyze and prepare data\n",
        "\n",
        "Covid-19 public dataset by Cameron Appel, Diana Beltekian, Daniel Gavrilov, Charlie Giattino, Joe Hasell, Bobbie Macdonald, Edouard Mathieu, Esteban Ortiz-Ospina, Hannah Ritchie, Lucas Rodés-Guirao, Max Roser.\n",
        "\n",
        "https://github.com/owid/covid-19-data/tree/master/public/data"
      ]
    },
    {
      "cell_type": "code",
      "metadata": {
        "colab": {
          "base_uri": "https://localhost:8080/"
        },
        "id": "_G3agDMkLHHM",
        "outputId": "84eadfd4-76db-4c6d-a076-da40afa487f4"
      },
      "source": [
        "!wget https://raw.githubusercontent.com/owid/covid-19-data/master/public/data/owid-covid-data.csv"
      ],
      "execution_count": 199,
      "outputs": [
        {
          "output_type": "stream",
          "name": "stdout",
          "text": [
            "--2021-11-03 07:38:50--  https://raw.githubusercontent.com/owid/covid-19-data/master/public/data/owid-covid-data.csv\n",
            "Resolving raw.githubusercontent.com (raw.githubusercontent.com)... 185.199.108.133, 185.199.109.133, 185.199.110.133, ...\n",
            "Connecting to raw.githubusercontent.com (raw.githubusercontent.com)|185.199.108.133|:443... connected.\n",
            "HTTP request sent, awaiting response... 200 OK\n",
            "Length: 35185925 (34M) [text/plain]\n",
            "Saving to: ‘owid-covid-data.csv.2’\n",
            "\n",
            "owid-covid-data.csv 100%[===================>]  33.56M  62.3MB/s    in 0.5s    \n",
            "\n",
            "2021-11-03 07:38:51 (62.3 MB/s) - ‘owid-covid-data.csv.2’ saved [35185925/35185925]\n",
            "\n"
          ]
        }
      ]
    },
    {
      "cell_type": "code",
      "metadata": {
        "colab": {
          "base_uri": "https://localhost:8080/",
          "height": 309
        },
        "id": "y_RaXm_QLICJ",
        "outputId": "5a700cac-13b1-4e28-c5cd-6c18721cd4a8"
      },
      "source": [
        "# read data as a pandas dataframe\n",
        "import pandas as pd\n",
        "\n",
        "df = pd.read_csv(\"/content/owid-covid-data.csv\")\n",
        "df.head()"
      ],
      "execution_count": 200,
      "outputs": [
        {
          "output_type": "execute_result",
          "data": {
            "text/html": [
              "<div>\n",
              "<style scoped>\n",
              "    .dataframe tbody tr th:only-of-type {\n",
              "        vertical-align: middle;\n",
              "    }\n",
              "\n",
              "    .dataframe tbody tr th {\n",
              "        vertical-align: top;\n",
              "    }\n",
              "\n",
              "    .dataframe thead th {\n",
              "        text-align: right;\n",
              "    }\n",
              "</style>\n",
              "<table border=\"1\" class=\"dataframe\">\n",
              "  <thead>\n",
              "    <tr style=\"text-align: right;\">\n",
              "      <th></th>\n",
              "      <th>iso_code</th>\n",
              "      <th>continent</th>\n",
              "      <th>location</th>\n",
              "      <th>date</th>\n",
              "      <th>total_cases</th>\n",
              "      <th>new_cases</th>\n",
              "      <th>new_cases_smoothed</th>\n",
              "      <th>total_deaths</th>\n",
              "      <th>new_deaths</th>\n",
              "      <th>new_deaths_smoothed</th>\n",
              "      <th>total_cases_per_million</th>\n",
              "      <th>new_cases_per_million</th>\n",
              "      <th>new_cases_smoothed_per_million</th>\n",
              "      <th>total_deaths_per_million</th>\n",
              "      <th>new_deaths_per_million</th>\n",
              "      <th>new_deaths_smoothed_per_million</th>\n",
              "      <th>reproduction_rate</th>\n",
              "      <th>icu_patients</th>\n",
              "      <th>icu_patients_per_million</th>\n",
              "      <th>hosp_patients</th>\n",
              "      <th>hosp_patients_per_million</th>\n",
              "      <th>weekly_icu_admissions</th>\n",
              "      <th>weekly_icu_admissions_per_million</th>\n",
              "      <th>weekly_hosp_admissions</th>\n",
              "      <th>weekly_hosp_admissions_per_million</th>\n",
              "      <th>new_tests</th>\n",
              "      <th>total_tests</th>\n",
              "      <th>total_tests_per_thousand</th>\n",
              "      <th>new_tests_per_thousand</th>\n",
              "      <th>new_tests_smoothed</th>\n",
              "      <th>new_tests_smoothed_per_thousand</th>\n",
              "      <th>positive_rate</th>\n",
              "      <th>tests_per_case</th>\n",
              "      <th>tests_units</th>\n",
              "      <th>total_vaccinations</th>\n",
              "      <th>people_vaccinated</th>\n",
              "      <th>people_fully_vaccinated</th>\n",
              "      <th>total_boosters</th>\n",
              "      <th>new_vaccinations</th>\n",
              "      <th>new_vaccinations_smoothed</th>\n",
              "      <th>total_vaccinations_per_hundred</th>\n",
              "      <th>people_vaccinated_per_hundred</th>\n",
              "      <th>people_fully_vaccinated_per_hundred</th>\n",
              "      <th>total_boosters_per_hundred</th>\n",
              "      <th>new_vaccinations_smoothed_per_million</th>\n",
              "      <th>stringency_index</th>\n",
              "      <th>population</th>\n",
              "      <th>population_density</th>\n",
              "      <th>median_age</th>\n",
              "      <th>aged_65_older</th>\n",
              "      <th>aged_70_older</th>\n",
              "      <th>gdp_per_capita</th>\n",
              "      <th>extreme_poverty</th>\n",
              "      <th>cardiovasc_death_rate</th>\n",
              "      <th>diabetes_prevalence</th>\n",
              "      <th>female_smokers</th>\n",
              "      <th>male_smokers</th>\n",
              "      <th>handwashing_facilities</th>\n",
              "      <th>hospital_beds_per_thousand</th>\n",
              "      <th>life_expectancy</th>\n",
              "      <th>human_development_index</th>\n",
              "      <th>excess_mortality_cumulative_absolute</th>\n",
              "      <th>excess_mortality_cumulative</th>\n",
              "      <th>excess_mortality</th>\n",
              "      <th>excess_mortality_cumulative_per_million</th>\n",
              "    </tr>\n",
              "  </thead>\n",
              "  <tbody>\n",
              "    <tr>\n",
              "      <th>0</th>\n",
              "      <td>AFG</td>\n",
              "      <td>Asia</td>\n",
              "      <td>Afghanistan</td>\n",
              "      <td>2020-02-24</td>\n",
              "      <td>5.0</td>\n",
              "      <td>5.0</td>\n",
              "      <td>NaN</td>\n",
              "      <td>NaN</td>\n",
              "      <td>NaN</td>\n",
              "      <td>NaN</td>\n",
              "      <td>0.126</td>\n",
              "      <td>0.126</td>\n",
              "      <td>NaN</td>\n",
              "      <td>NaN</td>\n",
              "      <td>NaN</td>\n",
              "      <td>NaN</td>\n",
              "      <td>NaN</td>\n",
              "      <td>NaN</td>\n",
              "      <td>NaN</td>\n",
              "      <td>NaN</td>\n",
              "      <td>NaN</td>\n",
              "      <td>NaN</td>\n",
              "      <td>NaN</td>\n",
              "      <td>NaN</td>\n",
              "      <td>NaN</td>\n",
              "      <td>NaN</td>\n",
              "      <td>NaN</td>\n",
              "      <td>NaN</td>\n",
              "      <td>NaN</td>\n",
              "      <td>NaN</td>\n",
              "      <td>NaN</td>\n",
              "      <td>NaN</td>\n",
              "      <td>NaN</td>\n",
              "      <td>NaN</td>\n",
              "      <td>NaN</td>\n",
              "      <td>NaN</td>\n",
              "      <td>NaN</td>\n",
              "      <td>NaN</td>\n",
              "      <td>NaN</td>\n",
              "      <td>NaN</td>\n",
              "      <td>NaN</td>\n",
              "      <td>NaN</td>\n",
              "      <td>NaN</td>\n",
              "      <td>NaN</td>\n",
              "      <td>NaN</td>\n",
              "      <td>8.33</td>\n",
              "      <td>39835428.0</td>\n",
              "      <td>54.422</td>\n",
              "      <td>18.6</td>\n",
              "      <td>2.581</td>\n",
              "      <td>1.337</td>\n",
              "      <td>1803.987</td>\n",
              "      <td>NaN</td>\n",
              "      <td>597.029</td>\n",
              "      <td>9.59</td>\n",
              "      <td>NaN</td>\n",
              "      <td>NaN</td>\n",
              "      <td>37.746</td>\n",
              "      <td>0.5</td>\n",
              "      <td>64.83</td>\n",
              "      <td>0.511</td>\n",
              "      <td>NaN</td>\n",
              "      <td>NaN</td>\n",
              "      <td>NaN</td>\n",
              "      <td>NaN</td>\n",
              "    </tr>\n",
              "    <tr>\n",
              "      <th>1</th>\n",
              "      <td>AFG</td>\n",
              "      <td>Asia</td>\n",
              "      <td>Afghanistan</td>\n",
              "      <td>2020-02-25</td>\n",
              "      <td>5.0</td>\n",
              "      <td>0.0</td>\n",
              "      <td>NaN</td>\n",
              "      <td>NaN</td>\n",
              "      <td>NaN</td>\n",
              "      <td>NaN</td>\n",
              "      <td>0.126</td>\n",
              "      <td>0.000</td>\n",
              "      <td>NaN</td>\n",
              "      <td>NaN</td>\n",
              "      <td>NaN</td>\n",
              "      <td>NaN</td>\n",
              "      <td>NaN</td>\n",
              "      <td>NaN</td>\n",
              "      <td>NaN</td>\n",
              "      <td>NaN</td>\n",
              "      <td>NaN</td>\n",
              "      <td>NaN</td>\n",
              "      <td>NaN</td>\n",
              "      <td>NaN</td>\n",
              "      <td>NaN</td>\n",
              "      <td>NaN</td>\n",
              "      <td>NaN</td>\n",
              "      <td>NaN</td>\n",
              "      <td>NaN</td>\n",
              "      <td>NaN</td>\n",
              "      <td>NaN</td>\n",
              "      <td>NaN</td>\n",
              "      <td>NaN</td>\n",
              "      <td>NaN</td>\n",
              "      <td>NaN</td>\n",
              "      <td>NaN</td>\n",
              "      <td>NaN</td>\n",
              "      <td>NaN</td>\n",
              "      <td>NaN</td>\n",
              "      <td>NaN</td>\n",
              "      <td>NaN</td>\n",
              "      <td>NaN</td>\n",
              "      <td>NaN</td>\n",
              "      <td>NaN</td>\n",
              "      <td>NaN</td>\n",
              "      <td>8.33</td>\n",
              "      <td>39835428.0</td>\n",
              "      <td>54.422</td>\n",
              "      <td>18.6</td>\n",
              "      <td>2.581</td>\n",
              "      <td>1.337</td>\n",
              "      <td>1803.987</td>\n",
              "      <td>NaN</td>\n",
              "      <td>597.029</td>\n",
              "      <td>9.59</td>\n",
              "      <td>NaN</td>\n",
              "      <td>NaN</td>\n",
              "      <td>37.746</td>\n",
              "      <td>0.5</td>\n",
              "      <td>64.83</td>\n",
              "      <td>0.511</td>\n",
              "      <td>NaN</td>\n",
              "      <td>NaN</td>\n",
              "      <td>NaN</td>\n",
              "      <td>NaN</td>\n",
              "    </tr>\n",
              "    <tr>\n",
              "      <th>2</th>\n",
              "      <td>AFG</td>\n",
              "      <td>Asia</td>\n",
              "      <td>Afghanistan</td>\n",
              "      <td>2020-02-26</td>\n",
              "      <td>5.0</td>\n",
              "      <td>0.0</td>\n",
              "      <td>NaN</td>\n",
              "      <td>NaN</td>\n",
              "      <td>NaN</td>\n",
              "      <td>NaN</td>\n",
              "      <td>0.126</td>\n",
              "      <td>0.000</td>\n",
              "      <td>NaN</td>\n",
              "      <td>NaN</td>\n",
              "      <td>NaN</td>\n",
              "      <td>NaN</td>\n",
              "      <td>NaN</td>\n",
              "      <td>NaN</td>\n",
              "      <td>NaN</td>\n",
              "      <td>NaN</td>\n",
              "      <td>NaN</td>\n",
              "      <td>NaN</td>\n",
              "      <td>NaN</td>\n",
              "      <td>NaN</td>\n",
              "      <td>NaN</td>\n",
              "      <td>NaN</td>\n",
              "      <td>NaN</td>\n",
              "      <td>NaN</td>\n",
              "      <td>NaN</td>\n",
              "      <td>NaN</td>\n",
              "      <td>NaN</td>\n",
              "      <td>NaN</td>\n",
              "      <td>NaN</td>\n",
              "      <td>NaN</td>\n",
              "      <td>NaN</td>\n",
              "      <td>NaN</td>\n",
              "      <td>NaN</td>\n",
              "      <td>NaN</td>\n",
              "      <td>NaN</td>\n",
              "      <td>NaN</td>\n",
              "      <td>NaN</td>\n",
              "      <td>NaN</td>\n",
              "      <td>NaN</td>\n",
              "      <td>NaN</td>\n",
              "      <td>NaN</td>\n",
              "      <td>8.33</td>\n",
              "      <td>39835428.0</td>\n",
              "      <td>54.422</td>\n",
              "      <td>18.6</td>\n",
              "      <td>2.581</td>\n",
              "      <td>1.337</td>\n",
              "      <td>1803.987</td>\n",
              "      <td>NaN</td>\n",
              "      <td>597.029</td>\n",
              "      <td>9.59</td>\n",
              "      <td>NaN</td>\n",
              "      <td>NaN</td>\n",
              "      <td>37.746</td>\n",
              "      <td>0.5</td>\n",
              "      <td>64.83</td>\n",
              "      <td>0.511</td>\n",
              "      <td>NaN</td>\n",
              "      <td>NaN</td>\n",
              "      <td>NaN</td>\n",
              "      <td>NaN</td>\n",
              "    </tr>\n",
              "    <tr>\n",
              "      <th>3</th>\n",
              "      <td>AFG</td>\n",
              "      <td>Asia</td>\n",
              "      <td>Afghanistan</td>\n",
              "      <td>2020-02-27</td>\n",
              "      <td>5.0</td>\n",
              "      <td>0.0</td>\n",
              "      <td>NaN</td>\n",
              "      <td>NaN</td>\n",
              "      <td>NaN</td>\n",
              "      <td>NaN</td>\n",
              "      <td>0.126</td>\n",
              "      <td>0.000</td>\n",
              "      <td>NaN</td>\n",
              "      <td>NaN</td>\n",
              "      <td>NaN</td>\n",
              "      <td>NaN</td>\n",
              "      <td>NaN</td>\n",
              "      <td>NaN</td>\n",
              "      <td>NaN</td>\n",
              "      <td>NaN</td>\n",
              "      <td>NaN</td>\n",
              "      <td>NaN</td>\n",
              "      <td>NaN</td>\n",
              "      <td>NaN</td>\n",
              "      <td>NaN</td>\n",
              "      <td>NaN</td>\n",
              "      <td>NaN</td>\n",
              "      <td>NaN</td>\n",
              "      <td>NaN</td>\n",
              "      <td>NaN</td>\n",
              "      <td>NaN</td>\n",
              "      <td>NaN</td>\n",
              "      <td>NaN</td>\n",
              "      <td>NaN</td>\n",
              "      <td>NaN</td>\n",
              "      <td>NaN</td>\n",
              "      <td>NaN</td>\n",
              "      <td>NaN</td>\n",
              "      <td>NaN</td>\n",
              "      <td>NaN</td>\n",
              "      <td>NaN</td>\n",
              "      <td>NaN</td>\n",
              "      <td>NaN</td>\n",
              "      <td>NaN</td>\n",
              "      <td>NaN</td>\n",
              "      <td>8.33</td>\n",
              "      <td>39835428.0</td>\n",
              "      <td>54.422</td>\n",
              "      <td>18.6</td>\n",
              "      <td>2.581</td>\n",
              "      <td>1.337</td>\n",
              "      <td>1803.987</td>\n",
              "      <td>NaN</td>\n",
              "      <td>597.029</td>\n",
              "      <td>9.59</td>\n",
              "      <td>NaN</td>\n",
              "      <td>NaN</td>\n",
              "      <td>37.746</td>\n",
              "      <td>0.5</td>\n",
              "      <td>64.83</td>\n",
              "      <td>0.511</td>\n",
              "      <td>NaN</td>\n",
              "      <td>NaN</td>\n",
              "      <td>NaN</td>\n",
              "      <td>NaN</td>\n",
              "    </tr>\n",
              "    <tr>\n",
              "      <th>4</th>\n",
              "      <td>AFG</td>\n",
              "      <td>Asia</td>\n",
              "      <td>Afghanistan</td>\n",
              "      <td>2020-02-28</td>\n",
              "      <td>5.0</td>\n",
              "      <td>0.0</td>\n",
              "      <td>NaN</td>\n",
              "      <td>NaN</td>\n",
              "      <td>NaN</td>\n",
              "      <td>NaN</td>\n",
              "      <td>0.126</td>\n",
              "      <td>0.000</td>\n",
              "      <td>NaN</td>\n",
              "      <td>NaN</td>\n",
              "      <td>NaN</td>\n",
              "      <td>NaN</td>\n",
              "      <td>NaN</td>\n",
              "      <td>NaN</td>\n",
              "      <td>NaN</td>\n",
              "      <td>NaN</td>\n",
              "      <td>NaN</td>\n",
              "      <td>NaN</td>\n",
              "      <td>NaN</td>\n",
              "      <td>NaN</td>\n",
              "      <td>NaN</td>\n",
              "      <td>NaN</td>\n",
              "      <td>NaN</td>\n",
              "      <td>NaN</td>\n",
              "      <td>NaN</td>\n",
              "      <td>NaN</td>\n",
              "      <td>NaN</td>\n",
              "      <td>NaN</td>\n",
              "      <td>NaN</td>\n",
              "      <td>NaN</td>\n",
              "      <td>NaN</td>\n",
              "      <td>NaN</td>\n",
              "      <td>NaN</td>\n",
              "      <td>NaN</td>\n",
              "      <td>NaN</td>\n",
              "      <td>NaN</td>\n",
              "      <td>NaN</td>\n",
              "      <td>NaN</td>\n",
              "      <td>NaN</td>\n",
              "      <td>NaN</td>\n",
              "      <td>NaN</td>\n",
              "      <td>8.33</td>\n",
              "      <td>39835428.0</td>\n",
              "      <td>54.422</td>\n",
              "      <td>18.6</td>\n",
              "      <td>2.581</td>\n",
              "      <td>1.337</td>\n",
              "      <td>1803.987</td>\n",
              "      <td>NaN</td>\n",
              "      <td>597.029</td>\n",
              "      <td>9.59</td>\n",
              "      <td>NaN</td>\n",
              "      <td>NaN</td>\n",
              "      <td>37.746</td>\n",
              "      <td>0.5</td>\n",
              "      <td>64.83</td>\n",
              "      <td>0.511</td>\n",
              "      <td>NaN</td>\n",
              "      <td>NaN</td>\n",
              "      <td>NaN</td>\n",
              "      <td>NaN</td>\n",
              "    </tr>\n",
              "  </tbody>\n",
              "</table>\n",
              "</div>"
            ],
            "text/plain": [
              "  iso_code continent  ... excess_mortality excess_mortality_cumulative_per_million\n",
              "0      AFG      Asia  ...              NaN                                     NaN\n",
              "1      AFG      Asia  ...              NaN                                     NaN\n",
              "2      AFG      Asia  ...              NaN                                     NaN\n",
              "3      AFG      Asia  ...              NaN                                     NaN\n",
              "4      AFG      Asia  ...              NaN                                     NaN\n",
              "\n",
              "[5 rows x 65 columns]"
            ]
          },
          "metadata": {},
          "execution_count": 200
        }
      ]
    },
    {
      "cell_type": "code",
      "metadata": {
        "id": "7F1wekRRLRGH"
      },
      "source": [
        "# dataframe contains data from every country, let's extract only Georgia\n",
        "df = df[df[\"location\"] == \"Georgia\"]"
      ],
      "execution_count": 201,
      "outputs": []
    },
    {
      "cell_type": "code",
      "metadata": {
        "colab": {
          "base_uri": "https://localhost:8080/",
          "height": 309
        },
        "id": "QPDvfzDtOW6w",
        "outputId": "efd2607e-d7e2-4ec8-a0bf-4ce3cee9592f"
      },
      "source": [
        "df.head(5)"
      ],
      "execution_count": 202,
      "outputs": [
        {
          "output_type": "execute_result",
          "data": {
            "text/html": [
              "<div>\n",
              "<style scoped>\n",
              "    .dataframe tbody tr th:only-of-type {\n",
              "        vertical-align: middle;\n",
              "    }\n",
              "\n",
              "    .dataframe tbody tr th {\n",
              "        vertical-align: top;\n",
              "    }\n",
              "\n",
              "    .dataframe thead th {\n",
              "        text-align: right;\n",
              "    }\n",
              "</style>\n",
              "<table border=\"1\" class=\"dataframe\">\n",
              "  <thead>\n",
              "    <tr style=\"text-align: right;\">\n",
              "      <th></th>\n",
              "      <th>iso_code</th>\n",
              "      <th>continent</th>\n",
              "      <th>location</th>\n",
              "      <th>date</th>\n",
              "      <th>total_cases</th>\n",
              "      <th>new_cases</th>\n",
              "      <th>new_cases_smoothed</th>\n",
              "      <th>total_deaths</th>\n",
              "      <th>new_deaths</th>\n",
              "      <th>new_deaths_smoothed</th>\n",
              "      <th>total_cases_per_million</th>\n",
              "      <th>new_cases_per_million</th>\n",
              "      <th>new_cases_smoothed_per_million</th>\n",
              "      <th>total_deaths_per_million</th>\n",
              "      <th>new_deaths_per_million</th>\n",
              "      <th>new_deaths_smoothed_per_million</th>\n",
              "      <th>reproduction_rate</th>\n",
              "      <th>icu_patients</th>\n",
              "      <th>icu_patients_per_million</th>\n",
              "      <th>hosp_patients</th>\n",
              "      <th>hosp_patients_per_million</th>\n",
              "      <th>weekly_icu_admissions</th>\n",
              "      <th>weekly_icu_admissions_per_million</th>\n",
              "      <th>weekly_hosp_admissions</th>\n",
              "      <th>weekly_hosp_admissions_per_million</th>\n",
              "      <th>new_tests</th>\n",
              "      <th>total_tests</th>\n",
              "      <th>total_tests_per_thousand</th>\n",
              "      <th>new_tests_per_thousand</th>\n",
              "      <th>new_tests_smoothed</th>\n",
              "      <th>new_tests_smoothed_per_thousand</th>\n",
              "      <th>positive_rate</th>\n",
              "      <th>tests_per_case</th>\n",
              "      <th>tests_units</th>\n",
              "      <th>total_vaccinations</th>\n",
              "      <th>people_vaccinated</th>\n",
              "      <th>people_fully_vaccinated</th>\n",
              "      <th>total_boosters</th>\n",
              "      <th>new_vaccinations</th>\n",
              "      <th>new_vaccinations_smoothed</th>\n",
              "      <th>total_vaccinations_per_hundred</th>\n",
              "      <th>people_vaccinated_per_hundred</th>\n",
              "      <th>people_fully_vaccinated_per_hundred</th>\n",
              "      <th>total_boosters_per_hundred</th>\n",
              "      <th>new_vaccinations_smoothed_per_million</th>\n",
              "      <th>stringency_index</th>\n",
              "      <th>population</th>\n",
              "      <th>population_density</th>\n",
              "      <th>median_age</th>\n",
              "      <th>aged_65_older</th>\n",
              "      <th>aged_70_older</th>\n",
              "      <th>gdp_per_capita</th>\n",
              "      <th>extreme_poverty</th>\n",
              "      <th>cardiovasc_death_rate</th>\n",
              "      <th>diabetes_prevalence</th>\n",
              "      <th>female_smokers</th>\n",
              "      <th>male_smokers</th>\n",
              "      <th>handwashing_facilities</th>\n",
              "      <th>hospital_beds_per_thousand</th>\n",
              "      <th>life_expectancy</th>\n",
              "      <th>human_development_index</th>\n",
              "      <th>excess_mortality_cumulative_absolute</th>\n",
              "      <th>excess_mortality_cumulative</th>\n",
              "      <th>excess_mortality</th>\n",
              "      <th>excess_mortality_cumulative_per_million</th>\n",
              "    </tr>\n",
              "  </thead>\n",
              "  <tbody>\n",
              "    <tr>\n",
              "      <th>43355</th>\n",
              "      <td>GEO</td>\n",
              "      <td>Asia</td>\n",
              "      <td>Georgia</td>\n",
              "      <td>2020-02-26</td>\n",
              "      <td>1.0</td>\n",
              "      <td>1.0</td>\n",
              "      <td>NaN</td>\n",
              "      <td>NaN</td>\n",
              "      <td>NaN</td>\n",
              "      <td>NaN</td>\n",
              "      <td>0.251</td>\n",
              "      <td>0.251</td>\n",
              "      <td>NaN</td>\n",
              "      <td>NaN</td>\n",
              "      <td>NaN</td>\n",
              "      <td>NaN</td>\n",
              "      <td>NaN</td>\n",
              "      <td>NaN</td>\n",
              "      <td>NaN</td>\n",
              "      <td>NaN</td>\n",
              "      <td>NaN</td>\n",
              "      <td>NaN</td>\n",
              "      <td>NaN</td>\n",
              "      <td>NaN</td>\n",
              "      <td>NaN</td>\n",
              "      <td>NaN</td>\n",
              "      <td>NaN</td>\n",
              "      <td>NaN</td>\n",
              "      <td>NaN</td>\n",
              "      <td>NaN</td>\n",
              "      <td>NaN</td>\n",
              "      <td>NaN</td>\n",
              "      <td>NaN</td>\n",
              "      <td>NaN</td>\n",
              "      <td>NaN</td>\n",
              "      <td>NaN</td>\n",
              "      <td>NaN</td>\n",
              "      <td>NaN</td>\n",
              "      <td>NaN</td>\n",
              "      <td>NaN</td>\n",
              "      <td>NaN</td>\n",
              "      <td>NaN</td>\n",
              "      <td>NaN</td>\n",
              "      <td>NaN</td>\n",
              "      <td>NaN</td>\n",
              "      <td>19.44</td>\n",
              "      <td>3979773.0</td>\n",
              "      <td>65.032</td>\n",
              "      <td>38.7</td>\n",
              "      <td>14.864</td>\n",
              "      <td>10.244</td>\n",
              "      <td>9745.079</td>\n",
              "      <td>4.2</td>\n",
              "      <td>496.218</td>\n",
              "      <td>7.11</td>\n",
              "      <td>5.3</td>\n",
              "      <td>55.5</td>\n",
              "      <td>NaN</td>\n",
              "      <td>2.6</td>\n",
              "      <td>73.77</td>\n",
              "      <td>0.812</td>\n",
              "      <td>NaN</td>\n",
              "      <td>NaN</td>\n",
              "      <td>NaN</td>\n",
              "      <td>NaN</td>\n",
              "    </tr>\n",
              "    <tr>\n",
              "      <th>43356</th>\n",
              "      <td>GEO</td>\n",
              "      <td>Asia</td>\n",
              "      <td>Georgia</td>\n",
              "      <td>2020-02-27</td>\n",
              "      <td>1.0</td>\n",
              "      <td>0.0</td>\n",
              "      <td>NaN</td>\n",
              "      <td>NaN</td>\n",
              "      <td>NaN</td>\n",
              "      <td>NaN</td>\n",
              "      <td>0.251</td>\n",
              "      <td>0.000</td>\n",
              "      <td>NaN</td>\n",
              "      <td>NaN</td>\n",
              "      <td>NaN</td>\n",
              "      <td>NaN</td>\n",
              "      <td>NaN</td>\n",
              "      <td>NaN</td>\n",
              "      <td>NaN</td>\n",
              "      <td>NaN</td>\n",
              "      <td>NaN</td>\n",
              "      <td>NaN</td>\n",
              "      <td>NaN</td>\n",
              "      <td>NaN</td>\n",
              "      <td>NaN</td>\n",
              "      <td>NaN</td>\n",
              "      <td>NaN</td>\n",
              "      <td>NaN</td>\n",
              "      <td>NaN</td>\n",
              "      <td>NaN</td>\n",
              "      <td>NaN</td>\n",
              "      <td>NaN</td>\n",
              "      <td>NaN</td>\n",
              "      <td>NaN</td>\n",
              "      <td>NaN</td>\n",
              "      <td>NaN</td>\n",
              "      <td>NaN</td>\n",
              "      <td>NaN</td>\n",
              "      <td>NaN</td>\n",
              "      <td>NaN</td>\n",
              "      <td>NaN</td>\n",
              "      <td>NaN</td>\n",
              "      <td>NaN</td>\n",
              "      <td>NaN</td>\n",
              "      <td>NaN</td>\n",
              "      <td>19.44</td>\n",
              "      <td>3979773.0</td>\n",
              "      <td>65.032</td>\n",
              "      <td>38.7</td>\n",
              "      <td>14.864</td>\n",
              "      <td>10.244</td>\n",
              "      <td>9745.079</td>\n",
              "      <td>4.2</td>\n",
              "      <td>496.218</td>\n",
              "      <td>7.11</td>\n",
              "      <td>5.3</td>\n",
              "      <td>55.5</td>\n",
              "      <td>NaN</td>\n",
              "      <td>2.6</td>\n",
              "      <td>73.77</td>\n",
              "      <td>0.812</td>\n",
              "      <td>NaN</td>\n",
              "      <td>NaN</td>\n",
              "      <td>NaN</td>\n",
              "      <td>NaN</td>\n",
              "    </tr>\n",
              "    <tr>\n",
              "      <th>43357</th>\n",
              "      <td>GEO</td>\n",
              "      <td>Asia</td>\n",
              "      <td>Georgia</td>\n",
              "      <td>2020-02-28</td>\n",
              "      <td>1.0</td>\n",
              "      <td>0.0</td>\n",
              "      <td>NaN</td>\n",
              "      <td>NaN</td>\n",
              "      <td>NaN</td>\n",
              "      <td>NaN</td>\n",
              "      <td>0.251</td>\n",
              "      <td>0.000</td>\n",
              "      <td>NaN</td>\n",
              "      <td>NaN</td>\n",
              "      <td>NaN</td>\n",
              "      <td>NaN</td>\n",
              "      <td>NaN</td>\n",
              "      <td>NaN</td>\n",
              "      <td>NaN</td>\n",
              "      <td>NaN</td>\n",
              "      <td>NaN</td>\n",
              "      <td>NaN</td>\n",
              "      <td>NaN</td>\n",
              "      <td>NaN</td>\n",
              "      <td>NaN</td>\n",
              "      <td>NaN</td>\n",
              "      <td>NaN</td>\n",
              "      <td>NaN</td>\n",
              "      <td>NaN</td>\n",
              "      <td>NaN</td>\n",
              "      <td>NaN</td>\n",
              "      <td>NaN</td>\n",
              "      <td>NaN</td>\n",
              "      <td>NaN</td>\n",
              "      <td>NaN</td>\n",
              "      <td>NaN</td>\n",
              "      <td>NaN</td>\n",
              "      <td>NaN</td>\n",
              "      <td>NaN</td>\n",
              "      <td>NaN</td>\n",
              "      <td>NaN</td>\n",
              "      <td>NaN</td>\n",
              "      <td>NaN</td>\n",
              "      <td>NaN</td>\n",
              "      <td>NaN</td>\n",
              "      <td>19.44</td>\n",
              "      <td>3979773.0</td>\n",
              "      <td>65.032</td>\n",
              "      <td>38.7</td>\n",
              "      <td>14.864</td>\n",
              "      <td>10.244</td>\n",
              "      <td>9745.079</td>\n",
              "      <td>4.2</td>\n",
              "      <td>496.218</td>\n",
              "      <td>7.11</td>\n",
              "      <td>5.3</td>\n",
              "      <td>55.5</td>\n",
              "      <td>NaN</td>\n",
              "      <td>2.6</td>\n",
              "      <td>73.77</td>\n",
              "      <td>0.812</td>\n",
              "      <td>NaN</td>\n",
              "      <td>NaN</td>\n",
              "      <td>NaN</td>\n",
              "      <td>NaN</td>\n",
              "    </tr>\n",
              "    <tr>\n",
              "      <th>43358</th>\n",
              "      <td>GEO</td>\n",
              "      <td>Asia</td>\n",
              "      <td>Georgia</td>\n",
              "      <td>2020-02-29</td>\n",
              "      <td>1.0</td>\n",
              "      <td>0.0</td>\n",
              "      <td>NaN</td>\n",
              "      <td>NaN</td>\n",
              "      <td>NaN</td>\n",
              "      <td>NaN</td>\n",
              "      <td>0.251</td>\n",
              "      <td>0.000</td>\n",
              "      <td>NaN</td>\n",
              "      <td>NaN</td>\n",
              "      <td>NaN</td>\n",
              "      <td>NaN</td>\n",
              "      <td>NaN</td>\n",
              "      <td>NaN</td>\n",
              "      <td>NaN</td>\n",
              "      <td>NaN</td>\n",
              "      <td>NaN</td>\n",
              "      <td>NaN</td>\n",
              "      <td>NaN</td>\n",
              "      <td>NaN</td>\n",
              "      <td>NaN</td>\n",
              "      <td>NaN</td>\n",
              "      <td>NaN</td>\n",
              "      <td>NaN</td>\n",
              "      <td>NaN</td>\n",
              "      <td>NaN</td>\n",
              "      <td>NaN</td>\n",
              "      <td>NaN</td>\n",
              "      <td>NaN</td>\n",
              "      <td>NaN</td>\n",
              "      <td>NaN</td>\n",
              "      <td>NaN</td>\n",
              "      <td>NaN</td>\n",
              "      <td>NaN</td>\n",
              "      <td>NaN</td>\n",
              "      <td>NaN</td>\n",
              "      <td>NaN</td>\n",
              "      <td>NaN</td>\n",
              "      <td>NaN</td>\n",
              "      <td>NaN</td>\n",
              "      <td>NaN</td>\n",
              "      <td>19.44</td>\n",
              "      <td>3979773.0</td>\n",
              "      <td>65.032</td>\n",
              "      <td>38.7</td>\n",
              "      <td>14.864</td>\n",
              "      <td>10.244</td>\n",
              "      <td>9745.079</td>\n",
              "      <td>4.2</td>\n",
              "      <td>496.218</td>\n",
              "      <td>7.11</td>\n",
              "      <td>5.3</td>\n",
              "      <td>55.5</td>\n",
              "      <td>NaN</td>\n",
              "      <td>2.6</td>\n",
              "      <td>73.77</td>\n",
              "      <td>0.812</td>\n",
              "      <td>304.8</td>\n",
              "      <td>3.6</td>\n",
              "      <td>6.72</td>\n",
              "      <td>76.587283</td>\n",
              "    </tr>\n",
              "    <tr>\n",
              "      <th>43359</th>\n",
              "      <td>GEO</td>\n",
              "      <td>Asia</td>\n",
              "      <td>Georgia</td>\n",
              "      <td>2020-03-01</td>\n",
              "      <td>3.0</td>\n",
              "      <td>2.0</td>\n",
              "      <td>NaN</td>\n",
              "      <td>NaN</td>\n",
              "      <td>NaN</td>\n",
              "      <td>NaN</td>\n",
              "      <td>0.754</td>\n",
              "      <td>0.503</td>\n",
              "      <td>NaN</td>\n",
              "      <td>NaN</td>\n",
              "      <td>NaN</td>\n",
              "      <td>NaN</td>\n",
              "      <td>NaN</td>\n",
              "      <td>NaN</td>\n",
              "      <td>NaN</td>\n",
              "      <td>NaN</td>\n",
              "      <td>NaN</td>\n",
              "      <td>NaN</td>\n",
              "      <td>NaN</td>\n",
              "      <td>NaN</td>\n",
              "      <td>NaN</td>\n",
              "      <td>NaN</td>\n",
              "      <td>NaN</td>\n",
              "      <td>NaN</td>\n",
              "      <td>NaN</td>\n",
              "      <td>NaN</td>\n",
              "      <td>NaN</td>\n",
              "      <td>NaN</td>\n",
              "      <td>NaN</td>\n",
              "      <td>NaN</td>\n",
              "      <td>NaN</td>\n",
              "      <td>NaN</td>\n",
              "      <td>NaN</td>\n",
              "      <td>NaN</td>\n",
              "      <td>NaN</td>\n",
              "      <td>NaN</td>\n",
              "      <td>NaN</td>\n",
              "      <td>NaN</td>\n",
              "      <td>NaN</td>\n",
              "      <td>NaN</td>\n",
              "      <td>NaN</td>\n",
              "      <td>30.56</td>\n",
              "      <td>3979773.0</td>\n",
              "      <td>65.032</td>\n",
              "      <td>38.7</td>\n",
              "      <td>14.864</td>\n",
              "      <td>10.244</td>\n",
              "      <td>9745.079</td>\n",
              "      <td>4.2</td>\n",
              "      <td>496.218</td>\n",
              "      <td>7.11</td>\n",
              "      <td>5.3</td>\n",
              "      <td>55.5</td>\n",
              "      <td>NaN</td>\n",
              "      <td>2.6</td>\n",
              "      <td>73.77</td>\n",
              "      <td>0.812</td>\n",
              "      <td>NaN</td>\n",
              "      <td>NaN</td>\n",
              "      <td>NaN</td>\n",
              "      <td>NaN</td>\n",
              "    </tr>\n",
              "  </tbody>\n",
              "</table>\n",
              "</div>"
            ],
            "text/plain": [
              "      iso_code  ... excess_mortality_cumulative_per_million\n",
              "43355      GEO  ...                                     NaN\n",
              "43356      GEO  ...                                     NaN\n",
              "43357      GEO  ...                                     NaN\n",
              "43358      GEO  ...                               76.587283\n",
              "43359      GEO  ...                                     NaN\n",
              "\n",
              "[5 rows x 65 columns]"
            ]
          },
          "metadata": {},
          "execution_count": 202
        }
      ]
    },
    {
      "cell_type": "code",
      "metadata": {
        "colab": {
          "base_uri": "https://localhost:8080/"
        },
        "id": "eZQOccJVObwL",
        "outputId": "51d5ba26-35d2-4cbb-b8f9-b41065925532"
      },
      "source": [
        "df.info()"
      ],
      "execution_count": 203,
      "outputs": [
        {
          "output_type": "stream",
          "name": "stdout",
          "text": [
            "<class 'pandas.core.frame.DataFrame'>\n",
            "Int64Index: 615 entries, 43355 to 43969\n",
            "Data columns (total 65 columns):\n",
            " #   Column                                   Non-Null Count  Dtype  \n",
            "---  ------                                   --------------  -----  \n",
            " 0   iso_code                                 615 non-null    object \n",
            " 1   continent                                615 non-null    object \n",
            " 2   location                                 615 non-null    object \n",
            " 3   date                                     615 non-null    object \n",
            " 4   total_cases                              615 non-null    float64\n",
            " 5   new_cases                                615 non-null    float64\n",
            " 6   new_cases_smoothed                       610 non-null    float64\n",
            " 7   total_deaths                             577 non-null    float64\n",
            " 8   new_deaths                               577 non-null    float64\n",
            " 9   new_deaths_smoothed                      610 non-null    float64\n",
            " 10  total_cases_per_million                  615 non-null    float64\n",
            " 11  new_cases_per_million                    615 non-null    float64\n",
            " 12  new_cases_smoothed_per_million           610 non-null    float64\n",
            " 13  total_deaths_per_million                 577 non-null    float64\n",
            " 14  new_deaths_per_million                   577 non-null    float64\n",
            " 15  new_deaths_smoothed_per_million          610 non-null    float64\n",
            " 16  reproduction_rate                        577 non-null    float64\n",
            " 17  icu_patients                             0 non-null      float64\n",
            " 18  icu_patients_per_million                 0 non-null      float64\n",
            " 19  hosp_patients                            0 non-null      float64\n",
            " 20  hosp_patients_per_million                0 non-null      float64\n",
            " 21  weekly_icu_admissions                    0 non-null      float64\n",
            " 22  weekly_icu_admissions_per_million        0 non-null      float64\n",
            " 23  weekly_hosp_admissions                   0 non-null      float64\n",
            " 24  weekly_hosp_admissions_per_million       0 non-null      float64\n",
            " 25  new_tests                                34 non-null     float64\n",
            " 26  total_tests                              79 non-null     float64\n",
            " 27  total_tests_per_thousand                 79 non-null     float64\n",
            " 28  new_tests_per_thousand                   34 non-null     float64\n",
            " 29  new_tests_smoothed                       205 non-null    float64\n",
            " 30  new_tests_smoothed_per_thousand          205 non-null    float64\n",
            " 31  positive_rate                            205 non-null    float64\n",
            " 32  tests_per_case                           205 non-null    float64\n",
            " 33  tests_units                              212 non-null    object \n",
            " 34  total_vaccinations                       137 non-null    float64\n",
            " 35  people_vaccinated                        137 non-null    float64\n",
            " 36  people_fully_vaccinated                  119 non-null    float64\n",
            " 37  total_boosters                           0 non-null      float64\n",
            " 38  new_vaccinations                         95 non-null     float64\n",
            " 39  new_vaccinations_smoothed                219 non-null    float64\n",
            " 40  total_vaccinations_per_hundred           137 non-null    float64\n",
            " 41  people_vaccinated_per_hundred            137 non-null    float64\n",
            " 42  people_fully_vaccinated_per_hundred      119 non-null    float64\n",
            " 43  total_boosters_per_hundred               0 non-null      float64\n",
            " 44  new_vaccinations_smoothed_per_million    219 non-null    float64\n",
            " 45  stringency_index                         599 non-null    float64\n",
            " 46  population                               615 non-null    float64\n",
            " 47  population_density                       615 non-null    float64\n",
            " 48  median_age                               615 non-null    float64\n",
            " 49  aged_65_older                            615 non-null    float64\n",
            " 50  aged_70_older                            615 non-null    float64\n",
            " 51  gdp_per_capita                           615 non-null    float64\n",
            " 52  extreme_poverty                          615 non-null    float64\n",
            " 53  cardiovasc_death_rate                    615 non-null    float64\n",
            " 54  diabetes_prevalence                      615 non-null    float64\n",
            " 55  female_smokers                           615 non-null    float64\n",
            " 56  male_smokers                             615 non-null    float64\n",
            " 57  handwashing_facilities                   0 non-null      float64\n",
            " 58  hospital_beds_per_thousand               615 non-null    float64\n",
            " 59  life_expectancy                          615 non-null    float64\n",
            " 60  human_development_index                  615 non-null    float64\n",
            " 61  excess_mortality_cumulative_absolute     17 non-null     float64\n",
            " 62  excess_mortality_cumulative              17 non-null     float64\n",
            " 63  excess_mortality                         17 non-null     float64\n",
            " 64  excess_mortality_cumulative_per_million  17 non-null     float64\n",
            "dtypes: float64(60), object(5)\n",
            "memory usage: 317.1+ KB\n"
          ]
        }
      ]
    },
    {
      "cell_type": "code",
      "metadata": {
        "id": "U5yE1h-kCiYC"
      },
      "source": [
        "# let's extract date and new cases columns\n",
        "import datetime\n",
        "\n",
        "date = pd.to_datetime(df[\"date\"], format = \"%Y-%m-%d\")  # convert string to datetime format\n",
        "date = date.dt.date\n",
        "date = date.values\n",
        "new_cases = df[\"new_cases\"].values"
      ],
      "execution_count": 204,
      "outputs": []
    },
    {
      "cell_type": "code",
      "metadata": {
        "colab": {
          "base_uri": "https://localhost:8080/",
          "height": 563
        },
        "id": "gX--dpCDOe9r",
        "outputId": "653b6cef-23cd-4015-d017-71f14297eb96"
      },
      "source": [
        "# plot time series\n",
        "import matplotlib.pyplot as plt\n",
        "\n",
        "fig = plt.figure(figsize = (20, 10))\n",
        "plt.plot(date, new_cases)\n",
        "plt.xlabel(\"date\")\n",
        "plt.ylabel(\"number of new cases\")\n",
        "fig.autofmt_xdate()\n",
        "plt.show()\n"
      ],
      "execution_count": 205,
      "outputs": [
        {
          "output_type": "display_data",
          "data": {
            "image/png": "[encoded data removed]",
            "text/plain": [
              "<Figure size 1440x720 with 1 Axes>"
            ]
          },
          "metadata": {
            "needs_background": "light"
          }
        }
      ]
    },
    {
      "cell_type": "markdown",
      "metadata": {
        "id": "rnw3bc0AMQF5"
      },
      "source": [
        "On weekends less covid tests are performed, which gives us weekly periodicity, we can check this by looking at frequency domain representation."
      ]
    },
    {
      "cell_type": "code",
      "metadata": {
        "id": "DA-asWHiQpeE",
        "colab": {
          "base_uri": "https://localhost:8080/",
          "height": 334
        },
        "outputId": "e69a328e-ea4f-40d0-ff00-1f7b1ed3444e"
      },
      "source": [
        "import tensorflow as tf\n",
        "import numpy as np\n",
        "\n",
        "new_cases_fft = tf.abs(tf.signal.fft(new_cases))\n",
        "new_cases_fft = new_cases_fft[:int(len(new_cases)/2)]\n",
        "freq_bins = np.arange(0, 0.5, 0.5/len(new_cases_fft))\n",
        "\n",
        "week_freq_index = np.where(freq_bins >= 1/7)\n",
        "week_freq_index = week_freq_index[0][0]\n",
        "\n",
        "plt.figure(figsize = (15,5))\n",
        "plt.plot(freq_bins, new_cases_fft)\n",
        "plt.xticks(ticks = [freq_bins[week_freq_index], freq_bins[2*week_freq_index], freq_bins[3*week_freq_index]], labels = [\"1/week\", \"2/week\", \"3/week\"])\n",
        "plt.xlabel(\"Frequency\")\n",
        "plt.ylabel(\"Amplitude\")\n",
        "plt.show()"
      ],
      "execution_count": 206,
      "outputs": [
        {
          "output_type": "display_data",
          "data": {
            "image/png": "[encoded data removed]",
            "text/plain": [
              "<Figure size 1080x360 with 1 Axes>"
            ]
          },
          "metadata": {
            "needs_background": "light"
          }
        }
      ]
    },
    {
      "cell_type": "markdown",
      "metadata": {
        "id": "CGtEeVxzgQ0u"
      },
      "source": [
        "Because of this, it's good to have another feature that represents week day"
      ]
    },
    {
      "cell_type": "code",
      "metadata": {
        "colab": {
          "base_uri": "https://localhost:8080/"
        },
        "id": "DvSQXNXlN0Gz",
        "outputId": "0bcf76bc-a711-43a2-bb18-b740f3dbb22c"
      },
      "source": [
        "# Create week day feature\n",
        "week_day = np.array(list(map(lambda x: x.weekday(), date)))\n",
        "\n",
        "week_day = tf.one_hot(week_day, depth = 7)\n",
        "\n",
        "week_day[:10]"
      ],
      "execution_count": 207,
      "outputs": [
        {
          "output_type": "execute_result",
          "data": {
            "text/plain": [
              "<tf.Tensor: shape=(10, 7), dtype=float32, numpy=\n",
              "array([[0., 0., 1., 0., 0., 0., 0.],\n",
              "       [0., 0., 0., 1., 0., 0., 0.],\n",
              "       [0., 0., 0., 0., 1., 0., 0.],\n",
              "       [0., 0., 0., 0., 0., 1., 0.],\n",
              "       [0., 0., 0., 0., 0., 0., 1.],\n",
              "       [1., 0., 0., 0., 0., 0., 0.],\n",
              "       [0., 1., 0., 0., 0., 0., 0.],\n",
              "       [0., 0., 1., 0., 0., 0., 0.],\n",
              "       [0., 0., 0., 1., 0., 0., 0.],\n",
              "       [0., 0., 0., 0., 1., 0., 0.]], dtype=float32)>"
            ]
          },
          "metadata": {},
          "execution_count": 207
        }
      ]
    },
    {
      "cell_type": "code",
      "metadata": {
        "colab": {
          "base_uri": "https://localhost:8080/",
          "height": 337
        },
        "id": "XgZHAsidnQqz",
        "outputId": "66621e2e-40e8-4e8b-f619-8827cddda170"
      },
      "source": [
        "# Create train (80%), validation (10%) and test (10%) splits:\n",
        "data_length = len(new_cases)\n",
        "train_split_index = int(0.8 * data_length)\n",
        "test_split_index = int(0.9 * data_length)\n",
        "\n",
        "new_cases_train = new_cases[:train_split_index]\n",
        "week_day_train = week_day[:train_split_index]\n",
        "\n",
        "new_cases_valid = new_cases[train_split_index:test_split_index]\n",
        "week_day_valid = week_day[train_split_index:test_split_index]\n",
        "\n",
        "new_cases_test = new_cases[test_split_index:]\n",
        "week_day_test = week_day[test_split_index:]\n",
        "\n",
        "# normalize data\n",
        "new_cases_max = np.max(new_cases_train)\n",
        "\n",
        "new_cases_train = new_cases_train / new_cases_max\n",
        "new_cases_test = new_cases_test / new_cases_max\n",
        "new_cases_valid = new_cases_valid / new_cases_max\n",
        "\n",
        "# Visualize train, validation and test splits\n",
        "\n",
        "plt.figure(figsize = (15,5))\n",
        "plt.plot(range(0,train_split_index), new_cases_train)\n",
        "plt.plot(range(train_split_index, test_split_index), new_cases_valid)\n",
        "plt.plot(range(test_split_index, data_length), new_cases_test)\n",
        "plt.legend([\"train\", \"validation\", \"test\"])"
      ],
      "execution_count": 208,
      "outputs": [
        {
          "output_type": "execute_result",
          "data": {
            "text/plain": [
              "<matplotlib.legend.Legend at 0x7f964cbb42d0>"
            ]
          },
          "metadata": {},
          "execution_count": 208
        },
        {
          "output_type": "display_data",
          "data": {
            "image/png": "[encoded data removed]",
            "text/plain": [
              "<Figure size 1080x360 with 1 Axes>"
            ]
          },
          "metadata": {
            "needs_background": "light"
          }
        }
      ]
    },
    {
      "cell_type": "markdown",
      "metadata": {
        "id": "3u1u8scHjnh0"
      },
      "source": [
        "# Baseline model: naive forecast\n",
        "\n",
        "Create a model in which the forecast for the next day is equal to the value on the current day."
      ]
    },
    {
      "cell_type": "code",
      "metadata": {
        "id": "MVLyj4JoXXA6"
      },
      "source": [
        "# create naive forecast model as a function\n",
        "def naive_forecast(previous_day):\n",
        "  next_day = previous_day\n",
        "  return next_day"
      ],
      "execution_count": 209,
      "outputs": []
    },
    {
      "cell_type": "code",
      "metadata": {
        "id": "xHDU6BBal3JG"
      },
      "source": [
        "# make some predictions using naive forecast model\n",
        "naive_forecast_inputs = new_cases_test[:-1]\n",
        "naive_forecast_preds = naive_forecast(naive_forecast_inputs)\n",
        "naive_forecast_labels = new_cases_test[1:]"
      ],
      "execution_count": 210,
      "outputs": []
    },
    {
      "cell_type": "code",
      "metadata": {
        "colab": {
          "base_uri": "https://localhost:8080/"
        },
        "id": "_u-b7N20qw6-",
        "outputId": "63e3e0fe-0f7b-4a34-d6c3-4693b2f24d8e"
      },
      "source": [
        "# evaluate naive forecast model (mean absolute error, root mean squared error)\n",
        "mae = tf.keras.metrics.mae(naive_forecast_labels,\n",
        "                                            naive_forecast_preds).numpy()\n",
        "mse =  tf.reduce_mean((naive_forecast_labels - naive_forecast_preds) ** 2).numpy()\n",
        "naive_forecast_results = {\"mae\" : mae,\n",
        "                          \"mse\" : mse}\n",
        "naive_forecast_results"
      ],
      "execution_count": 211,
      "outputs": [
        {
          "output_type": "execute_result",
          "data": {
            "text/plain": [
              "{'mae': 0.14627462776357344, 'mse': 0.04178977758951128}"
            ]
          },
          "metadata": {},
          "execution_count": 211
        }
      ]
    },
    {
      "cell_type": "code",
      "metadata": {
        "colab": {
          "base_uri": "https://localhost:8080/",
          "height": 320
        },
        "id": "vpHJwRaWt7iv",
        "outputId": "a63a0362-9bfb-4200-83f7-cf311c043cda"
      },
      "source": [
        "# plot naive forecast results\n",
        "\n",
        "plt.figure(figsize = (15,5))\n",
        "plt.plot(naive_forecast_labels,'go')\n",
        "plt.plot(naive_forecast_preds, 'r-')\n",
        "plt.legend([\"y_true\", \"y_pred\"])\n",
        "plt.show()"
      ],
      "execution_count": 212,
      "outputs": [
        {
          "output_type": "display_data",
          "data": {
            "image/png": "[encoded data removed]",
            "text/plain": [
              "<Figure size 1080x360 with 1 Axes>"
            ]
          },
          "metadata": {
            "needs_background": "light"
          }
        }
      ]
    },
    {
      "cell_type": "markdown",
      "metadata": {
        "id": "wI7EUALiu_61"
      },
      "source": [
        "# Prepare time series windows\n",
        "\n",
        "We will be building models to predict new Covid cases based on last 6 days, so our data will have window size of 6 and horizon size of 1."
      ]
    },
    {
      "cell_type": "code",
      "metadata": {
        "id": "V1Odx9zaWbyS"
      },
      "source": [
        "# create a function to generate time series windows\n",
        "def generate_windows(data, window_size = 6):\n",
        "  window_indices = range(0, len(data) - window_size)\n",
        "  label_indices = range(window_size, len(data))\n",
        "  \n",
        "  windows = [data[index:(index + window_size)] for index in window_indices]\n",
        "  labels = data[label_indices]\n",
        "\n",
        "  return np.array(windows), np.array(labels)"
      ],
      "execution_count": 213,
      "outputs": []
    },
    {
      "cell_type": "code",
      "metadata": {
        "colab": {
          "base_uri": "https://localhost:8080/"
        },
        "id": "h1AZGchoYwCd",
        "outputId": "4319a0fe-2cd9-4270-b018-871fc23cec4c"
      },
      "source": [
        "new_cases_train_windows, new_cases_train_labels = generate_windows(new_cases_train)\n",
        "new_cases_valid_windows, new_cases_valid_labels = generate_windows(new_cases_valid)\n",
        "new_cases_test_windows, new_cases_test_labels = generate_windows(new_cases_test)\n",
        "\n",
        "week_day_train_windows, _ = generate_windows(week_day_train.numpy())\n",
        "week_day_valid_windows, _ = generate_windows(week_day_valid.numpy())\n",
        "week_day_test_windows, _ = generate_windows(week_day_test.numpy())\n",
        "\n",
        "# shuffle train data\n",
        "random_indices = np.random.permutation(len(new_cases_train_windows))\n",
        "new_cases_train_windows = new_cases_train_windows[random_indices]\n",
        "new_cases_train_labels = new_cases_train_labels[random_indices]\n",
        "week_day_train_windows = week_day_train_windows[random_indices]\n",
        "\n",
        "print(len(new_cases_train_windows), len(new_cases_train_labels), \n",
        "      len(new_cases_valid_windows), len(new_cases_valid_labels), \n",
        "      len(new_cases_test_windows), len(new_cases_test_labels))"
      ],
      "execution_count": 214,
      "outputs": [
        {
          "output_type": "stream",
          "name": "stdout",
          "text": [
            "486 486 55 55 56 56\n"
          ]
        }
      ]
    },
    {
      "cell_type": "code",
      "metadata": {
        "colab": {
          "base_uri": "https://localhost:8080/"
        },
        "id": "hM2pR6luZHhE",
        "outputId": "58dae88e-3eae-4a06-b284-be63ff9dc0b9"
      },
      "source": [
        "for n in range(1,5):\n",
        "  print(f\"data: {new_cases_test_windows[n]} label: {new_cases_test_labels[n]}\")"
      ],
      "execution_count": 215,
      "outputs": [
        {
          "output_type": "stream",
          "name": "stdout",
          "text": [
            "data: [0.5893578  0.55669725 0.49247706 0.40550459 0.20550459 0.36055046] label: 0.47174311926605506\n",
            "data: [0.55669725 0.49247706 0.40550459 0.20550459 0.36055046 0.47174312] label: 0.4504587155963303\n",
            "data: [0.49247706 0.40550459 0.20550459 0.36055046 0.47174312 0.45045872] label: 0.415045871559633\n",
            "data: [0.40550459 0.20550459 0.36055046 0.47174312 0.45045872 0.41504587] label: 0.7011009174311926\n"
          ]
        }
      ]
    },
    {
      "cell_type": "markdown",
      "metadata": {
        "id": "RVnGDdKGc6xr"
      },
      "source": [
        "# First model: Multi-layer perceptron\n",
        "\n",
        "Let's build a neural network model using dense layers"
      ]
    },
    {
      "cell_type": "code",
      "metadata": {
        "colab": {
          "base_uri": "https://localhost:8080/"
        },
        "id": "iUPLQRsmi4Fz",
        "outputId": "6095e086-144a-40e8-ba4f-6516835b3230"
      },
      "source": [
        "import tensorflow as tf\n",
        "\n",
        "# build a model using Sequential API\n",
        "model_dense_univariate = tf.keras.Sequential([\n",
        "    tf.keras.layers.Dense(64, activation = \"relu\"),\n",
        "    tf.keras.layers.Dense(32, activation = \"relu\"),\n",
        "    tf.keras.layers.Dense(1, activation = None)\n",
        "])\n",
        "\n",
        "# compile the model\n",
        "model_dense_univariate.compile(optimizer = tf.keras.optimizers.Adam(),\n",
        "                               loss = tf.keras.losses.mae,\n",
        "                               metrics = [\"mae\", \"mse\"])\n",
        "\n",
        "# fit the model\n",
        "model_dense_univariate.fit(new_cases_train_windows, new_cases_train_labels,\n",
        "                           epochs = 5,\n",
        "                           validation_data = (new_cases_valid_windows, new_cases_valid_labels))"
      ],
      "execution_count": 216,
      "outputs": [
        {
          "output_type": "stream",
          "name": "stdout",
          "text": [
            "Epoch 1/5\n",
            "16/16 [==============================] - 1s 12ms/step - loss: 0.0698 - mae: 0.0698 - mse: 0.0173 - val_loss: 0.1458 - val_mae: 0.1458 - val_mse: 0.0353\n",
            "Epoch 2/5\n",
            "16/16 [==============================] - 0s 3ms/step - loss: 0.0326 - mae: 0.0326 - mse: 0.0040 - val_loss: 0.1320 - val_mae: 0.1320 - val_mse: 0.0339\n",
            "Epoch 3/5\n",
            "16/16 [==============================] - 0s 3ms/step - loss: 0.0316 - mae: 0.0316 - mse: 0.0038 - val_loss: 0.1355 - val_mae: 0.1355 - val_mse: 0.0336\n",
            "Epoch 4/5\n",
            "16/16 [==============================] - 0s 3ms/step - loss: 0.0305 - mae: 0.0305 - mse: 0.0038 - val_loss: 0.1370 - val_mae: 0.1370 - val_mse: 0.0340\n",
            "Epoch 5/5\n",
            "16/16 [==============================] - 0s 3ms/step - loss: 0.0299 - mae: 0.0299 - mse: 0.0038 - val_loss: 0.1387 - val_mae: 0.1387 - val_mse: 0.0346\n"
          ]
        },
        {
          "output_type": "execute_result",
          "data": {
            "text/plain": [
              "<keras.callbacks.History at 0x7f964ca96b90>"
            ]
          },
          "metadata": {},
          "execution_count": 216
        }
      ]
    },
    {
      "cell_type": "code",
      "metadata": {
        "colab": {
          "base_uri": "https://localhost:8080/"
        },
        "id": "G_Ps9-88mXOK",
        "outputId": "dc4c1042-0930-4822-cb64-fbd7db7699f3"
      },
      "source": [
        "dense_univariate_results = model_dense_univariate.evaluate(new_cases_test_windows,\n",
        "                                  new_cases_test_labels)\n",
        "dense_univariate_results"
      ],
      "execution_count": 217,
      "outputs": [
        {
          "output_type": "stream",
          "name": "stdout",
          "text": [
            "2/2 [==============================] - 0s 6ms/step - loss: 0.1267 - mae: 0.1267 - mse: 0.0307\n"
          ]
        },
        {
          "output_type": "execute_result",
          "data": {
            "text/plain": [
              "[0.12671823799610138, 0.12671823799610138, 0.030701488256454468]"
            ]
          },
          "metadata": {},
          "execution_count": 217
        }
      ]
    },
    {
      "cell_type": "code",
      "metadata": {
        "colab": {
          "base_uri": "https://localhost:8080/"
        },
        "id": "tr7A-8nBnEYa",
        "outputId": "348e5858-2012-4bf6-f39b-fcf10dc93756"
      },
      "source": [
        "model_dense_univariate.summary()"
      ],
      "execution_count": 218,
      "outputs": [
        {
          "output_type": "stream",
          "name": "stdout",
          "text": [
            "Model: \"sequential_20\"\n",
            "_________________________________________________________________\n",
            "Layer (type)                 Output Shape              Param #   \n",
            "=================================================================\n",
            "dense_45 (Dense)             (None, 64)                448       \n",
            "_________________________________________________________________\n",
            "dense_46 (Dense)             (None, 32)                2080      \n",
            "_________________________________________________________________\n",
            "dense_47 (Dense)             (None, 1)                 33        \n",
            "=================================================================\n",
            "Total params: 2,561\n",
            "Trainable params: 2,561\n",
            "Non-trainable params: 0\n",
            "_________________________________________________________________\n"
          ]
        }
      ]
    },
    {
      "cell_type": "code",
      "metadata": {
        "id": "iTMxz14GoUlS"
      },
      "source": [
        "# get model predictions\n",
        "dense_univariate_preds = model_dense_univariate.predict(new_cases_test_windows)"
      ],
      "execution_count": 219,
      "outputs": []
    },
    {
      "cell_type": "code",
      "metadata": {
        "colab": {
          "base_uri": "https://localhost:8080/",
          "height": 320
        },
        "id": "fQ_qCWmiqRop",
        "outputId": "301ed6de-4929-4bf0-fd78-a1f329fd59cf"
      },
      "source": [
        "# plot model predictions\n",
        "\n",
        "plt.figure(figsize = (15,5))\n",
        "plt.plot(new_cases_test[6:],'go')\n",
        "plt.plot(dense_univariate_preds, 'r-')\n",
        "plt.legend([\"y_true\", \"y_pred\"])\n",
        "plt.show()"
      ],
      "execution_count": 220,
      "outputs": [
        {
          "output_type": "display_data",
          "data": {
            "image/png": "[encoded data removed]",
            "text/plain": [
              "<Figure size 1080x360 with 1 Axes>"
            ]
          },
          "metadata": {
            "needs_background": "light"
          }
        }
      ]
    },
    {
      "cell_type": "markdown",
      "metadata": {
        "id": "9G6xS5QSrHvh"
      },
      "source": [
        "# Model 2: Convolutional neural network\n",
        "\n",
        "1 dimensional convolutional layers are good for sequence problems"
      ]
    },
    {
      "cell_type": "code",
      "metadata": {
        "colab": {
          "base_uri": "https://localhost:8080/"
        },
        "id": "cWwIRwZHswwx",
        "outputId": "fdf93fd9-5c8f-4eea-90d9-a828159d04a9"
      },
      "source": [
        "# add an extra dimension, because conv1d layer requires 3-dimensional input\n",
        "new_cases_train_windows_conv = tf.expand_dims(new_cases_train_windows, axis = -1)\n",
        "new_cases_valid_windows_conv = tf.expand_dims(new_cases_valid_windows, axis = -1)\n",
        "new_cases_test_windows_conv = tf.expand_dims(new_cases_test_windows, axis = -1)\n",
        "\n",
        "\n",
        "# build a model using Sequential API\n",
        "model_Conv1D_univariate = tf.keras.Sequential([\n",
        "    tf.keras.layers.Conv1D(filters = 16, kernel_size = 3, activation = \"relu\", input_shape = (6, 1)),\n",
        "    tf.keras.layers.Flatten(),\n",
        "    tf.keras.layers.Dense(32, activation = \"relu\"),\n",
        "    tf.keras.layers.Dense(1, activation = None)\n",
        "])\n",
        "\n",
        "# compile the model\n",
        "model_Conv1D_univariate.compile(optimizer = tf.keras.optimizers.Adam(),\n",
        "                               loss = tf.keras.losses.mae,\n",
        "                               metrics = [\"mae\", \"mse\"])\n",
        "\n",
        "# fit the model\n",
        "model_Conv1D_univariate.fit(new_cases_train_windows_conv, new_cases_train_labels,\n",
        "                           epochs = 10,\n",
        "                           validation_data = (new_cases_valid_windows_conv, new_cases_valid_labels))"
      ],
      "execution_count": 221,
      "outputs": [
        {
          "output_type": "stream",
          "name": "stdout",
          "text": [
            "Epoch 1/10\n",
            "16/16 [==============================] - 1s 12ms/step - loss: 0.1384 - mae: 0.1384 - mse: 0.0638 - val_loss: 0.4877 - val_mae: 0.4877 - val_mse: 0.3051\n",
            "Epoch 2/10\n",
            "16/16 [==============================] - 0s 3ms/step - loss: 0.0851 - mae: 0.0851 - mse: 0.0277 - val_loss: 0.2513 - val_mae: 0.2513 - val_mse: 0.0974\n",
            "Epoch 3/10\n",
            "16/16 [==============================] - 0s 3ms/step - loss: 0.0452 - mae: 0.0452 - mse: 0.0073 - val_loss: 0.1352 - val_mae: 0.1352 - val_mse: 0.0329\n",
            "Epoch 4/10\n",
            "16/16 [==============================] - 0s 3ms/step - loss: 0.0367 - mae: 0.0367 - mse: 0.0048 - val_loss: 0.1516 - val_mae: 0.1516 - val_mse: 0.0366\n",
            "Epoch 5/10\n",
            "16/16 [==============================] - 0s 3ms/step - loss: 0.0349 - mae: 0.0349 - mse: 0.0043 - val_loss: 0.1361 - val_mae: 0.1361 - val_mse: 0.0333\n",
            "Epoch 6/10\n",
            "16/16 [==============================] - 0s 4ms/step - loss: 0.0342 - mae: 0.0342 - mse: 0.0047 - val_loss: 0.1396 - val_mae: 0.1396 - val_mse: 0.0337\n",
            "Epoch 7/10\n",
            "16/16 [==============================] - 0s 3ms/step - loss: 0.0328 - mae: 0.0328 - mse: 0.0042 - val_loss: 0.1397 - val_mae: 0.1397 - val_mse: 0.0338\n",
            "Epoch 8/10\n",
            "16/16 [==============================] - 0s 3ms/step - loss: 0.0324 - mae: 0.0324 - mse: 0.0041 - val_loss: 0.1409 - val_mae: 0.1409 - val_mse: 0.0343\n",
            "Epoch 9/10\n",
            "16/16 [==============================] - 0s 3ms/step - loss: 0.0322 - mae: 0.0322 - mse: 0.0040 - val_loss: 0.1387 - val_mae: 0.1387 - val_mse: 0.0340\n",
            "Epoch 10/10\n",
            "16/16 [==============================] - 0s 3ms/step - loss: 0.0329 - mae: 0.0329 - mse: 0.0042 - val_loss: 0.1393 - val_mae: 0.1393 - val_mse: 0.0335\n"
          ]
        },
        {
          "output_type": "execute_result",
          "data": {
            "text/plain": [
              "<keras.callbacks.History at 0x7f964c90c250>"
            ]
          },
          "metadata": {},
          "execution_count": 221
        }
      ]
    },
    {
      "cell_type": "code",
      "metadata": {
        "colab": {
          "base_uri": "https://localhost:8080/"
        },
        "id": "ig-cz4tPtOG5",
        "outputId": "2d46d875-afb2-46fd-9ee7-ad6014cd050b"
      },
      "source": [
        "Conv1D_univariate_results = model_Conv1D_univariate.evaluate(new_cases_test_windows_conv, new_cases_test_labels)\n",
        "Conv1D_univariate_results"
      ],
      "execution_count": 222,
      "outputs": [
        {
          "output_type": "stream",
          "name": "stdout",
          "text": [
            "2/2 [==============================] - 0s 7ms/step - loss: 0.1252 - mae: 0.1252 - mse: 0.0282\n"
          ]
        },
        {
          "output_type": "execute_result",
          "data": {
            "text/plain": [
              "[0.12523379921913147, 0.12523379921913147, 0.028238704428076744]"
            ]
          },
          "metadata": {},
          "execution_count": 222
        }
      ]
    },
    {
      "cell_type": "code",
      "metadata": {
        "colab": {
          "base_uri": "https://localhost:8080/"
        },
        "id": "_va1oZTIw4OO",
        "outputId": "d108a165-b6d3-4646-ca2c-a44750c74783"
      },
      "source": [
        "model_Conv1D_univariate.summary()"
      ],
      "execution_count": 223,
      "outputs": [
        {
          "output_type": "stream",
          "name": "stdout",
          "text": [
            "Model: \"sequential_21\"\n",
            "_________________________________________________________________\n",
            "Layer (type)                 Output Shape              Param #   \n",
            "=================================================================\n",
            "conv1d_4 (Conv1D)            (None, 4, 16)             64        \n",
            "_________________________________________________________________\n",
            "flatten_7 (Flatten)          (None, 64)                0         \n",
            "_________________________________________________________________\n",
            "dense_48 (Dense)             (None, 32)                2080      \n",
            "_________________________________________________________________\n",
            "dense_49 (Dense)             (None, 1)                 33        \n",
            "=================================================================\n",
            "Total params: 2,177\n",
            "Trainable params: 2,177\n",
            "Non-trainable params: 0\n",
            "_________________________________________________________________\n"
          ]
        }
      ]
    },
    {
      "cell_type": "code",
      "metadata": {
        "id": "c4ephz5ftcAJ"
      },
      "source": [
        "# get model predictions\n",
        "Conv1D_univariate_preds = model_Conv1D_univariate.predict(new_cases_test_windows_conv)"
      ],
      "execution_count": 224,
      "outputs": []
    },
    {
      "cell_type": "code",
      "metadata": {
        "colab": {
          "base_uri": "https://localhost:8080/",
          "height": 320
        },
        "id": "fEJF6jiExKMw",
        "outputId": "71cc68ad-607d-4838-8eff-08ae10c31f17"
      },
      "source": [
        "# plot model predictions\n",
        "\n",
        "plt.figure(figsize = (15,5))\n",
        "plt.plot(new_cases_test[6:],'go')\n",
        "plt.plot(tf.squeeze(Conv1D_univariate_preds), 'r-')\n",
        "plt.legend([\"y_true\", \"y_pred\"])\n",
        "plt.show()"
      ],
      "execution_count": 225,
      "outputs": [
        {
          "output_type": "display_data",
          "data": {
            "image/png": "[encoded data removed]",
            "text/plain": [
              "<Figure size 1080x360 with 1 Axes>"
            ]
          },
          "metadata": {
            "needs_background": "light"
          }
        }
      ]
    },
    {
      "cell_type": "markdown",
      "metadata": {
        "id": "kWfH5p8FxfMY"
      },
      "source": [
        "# Model 3: LSTM\n",
        "\n",
        "let's try to use recurrent neural network"
      ]
    },
    {
      "cell_type": "code",
      "metadata": {
        "colab": {
          "base_uri": "https://localhost:8080/"
        },
        "id": "tVTtXjtt2wS2",
        "outputId": "4ab83d00-8f09-4ac0-e621-c887b4f257d1"
      },
      "source": [
        "# build a model using Sequential API\n",
        "model_LSTM_univariate = tf.keras.Sequential([\n",
        "    tf.keras.layers.LSTM(64, activation = \"relu\"),\n",
        "    tf.keras.layers.Dense(32, activation = \"relu\"),\n",
        "    tf.keras.layers.Dense(1, activation = None)\n",
        "])\n",
        "\n",
        "# compile the model\n",
        "model_LSTM_univariate.compile(optimizer = tf.keras.optimizers.Adam(),\n",
        "                               loss = tf.keras.losses.mae,\n",
        "                               metrics = [\"mae\", \"mse\"])\n",
        "\n",
        "# fit the model\n",
        "model_LSTM_univariate.fit(new_cases_train_windows_conv, new_cases_train_labels,\n",
        "                           epochs = 10,\n",
        "                           validation_data = (new_cases_valid_windows_conv, new_cases_valid_labels))"
      ],
      "execution_count": 226,
      "outputs": [
        {
          "output_type": "stream",
          "name": "stdout",
          "text": [
            "Epoch 1/10\n",
            "16/16 [==============================] - 2s 23ms/step - loss: 0.1181 - mae: 0.1181 - mse: 0.0449 - val_loss: 0.4126 - val_mae: 0.4126 - val_mse: 0.2312\n",
            "Epoch 2/10\n",
            "16/16 [==============================] - 0s 7ms/step - loss: 0.0727 - mae: 0.0727 - mse: 0.0182 - val_loss: 0.2223 - val_mae: 0.2223 - val_mse: 0.0740\n",
            "Epoch 3/10\n",
            "16/16 [==============================] - 0s 7ms/step - loss: 0.0412 - mae: 0.0412 - mse: 0.0050 - val_loss: 0.1489 - val_mae: 0.1489 - val_mse: 0.0391\n",
            "Epoch 4/10\n",
            "16/16 [==============================] - 0s 7ms/step - loss: 0.0357 - mae: 0.0357 - mse: 0.0045 - val_loss: 0.1505 - val_mae: 0.1505 - val_mse: 0.0388\n",
            "Epoch 5/10\n",
            "16/16 [==============================] - 0s 7ms/step - loss: 0.0344 - mae: 0.0344 - mse: 0.0044 - val_loss: 0.1518 - val_mae: 0.1518 - val_mse: 0.0395\n",
            "Epoch 6/10\n",
            "16/16 [==============================] - 0s 7ms/step - loss: 0.0345 - mae: 0.0345 - mse: 0.0043 - val_loss: 0.1525 - val_mae: 0.1525 - val_mse: 0.0397\n",
            "Epoch 7/10\n",
            "16/16 [==============================] - 0s 7ms/step - loss: 0.0336 - mae: 0.0336 - mse: 0.0045 - val_loss: 0.1539 - val_mae: 0.1539 - val_mse: 0.0420\n",
            "Epoch 8/10\n",
            "16/16 [==============================] - 0s 7ms/step - loss: 0.0330 - mae: 0.0330 - mse: 0.0043 - val_loss: 0.1542 - val_mae: 0.1542 - val_mse: 0.0403\n",
            "Epoch 9/10\n",
            "16/16 [==============================] - 0s 7ms/step - loss: 0.0332 - mae: 0.0332 - mse: 0.0042 - val_loss: 0.1549 - val_mae: 0.1549 - val_mse: 0.0415\n",
            "Epoch 10/10\n",
            "16/16 [==============================] - 0s 7ms/step - loss: 0.0341 - mae: 0.0341 - mse: 0.0046 - val_loss: 0.1566 - val_mae: 0.1566 - val_mse: 0.0407\n"
          ]
        },
        {
          "output_type": "execute_result",
          "data": {
            "text/plain": [
              "<keras.callbacks.History at 0x7f964c91fe50>"
            ]
          },
          "metadata": {},
          "execution_count": 226
        }
      ]
    },
    {
      "cell_type": "code",
      "metadata": {
        "colab": {
          "base_uri": "https://localhost:8080/"
        },
        "id": "-oV9oraS3GUH",
        "outputId": "cd00b355-c0e2-4d40-aee9-64545f478fa9"
      },
      "source": [
        "model_LSTM_univariate.summary()"
      ],
      "execution_count": 227,
      "outputs": [
        {
          "output_type": "stream",
          "name": "stdout",
          "text": [
            "Model: \"sequential_22\"\n",
            "_________________________________________________________________\n",
            "Layer (type)                 Output Shape              Param #   \n",
            "=================================================================\n",
            "lstm_11 (LSTM)               (None, 64)                16896     \n",
            "_________________________________________________________________\n",
            "dense_50 (Dense)             (None, 32)                2080      \n",
            "_________________________________________________________________\n",
            "dense_51 (Dense)             (None, 1)                 33        \n",
            "=================================================================\n",
            "Total params: 19,009\n",
            "Trainable params: 19,009\n",
            "Non-trainable params: 0\n",
            "_________________________________________________________________\n"
          ]
        }
      ]
    },
    {
      "cell_type": "code",
      "metadata": {
        "colab": {
          "base_uri": "https://localhost:8080/"
        },
        "id": "5hEu7BVk4Idk",
        "outputId": "bb59eb8a-39da-40ec-ebe7-2aa5a0306020"
      },
      "source": [
        "LSTM_univariate_results = model_LSTM_univariate.evaluate(new_cases_test_windows_conv, new_cases_test_labels)\n",
        "LSTM_univariate_results"
      ],
      "execution_count": 228,
      "outputs": [
        {
          "output_type": "stream",
          "name": "stdout",
          "text": [
            "2/2 [==============================] - 0s 6ms/step - loss: 0.1396 - mae: 0.1396 - mse: 0.0334\n"
          ]
        },
        {
          "output_type": "execute_result",
          "data": {
            "text/plain": [
              "[0.13957814872264862, 0.13957814872264862, 0.03340578451752663]"
            ]
          },
          "metadata": {},
          "execution_count": 228
        }
      ]
    },
    {
      "cell_type": "code",
      "metadata": {
        "id": "ckBQsSnJ3zvu"
      },
      "source": [
        "# get model predictions\n",
        "LSTM_univariate_preds = model_LSTM_univariate.predict(new_cases_test_windows_conv)"
      ],
      "execution_count": 229,
      "outputs": []
    },
    {
      "cell_type": "code",
      "metadata": {
        "colab": {
          "base_uri": "https://localhost:8080/",
          "height": 320
        },
        "id": "ayggjlvQ4GLP",
        "outputId": "39c7f23e-eaca-4ddf-bc2c-0373973538b4"
      },
      "source": [
        "# plot model predictions\n",
        "\n",
        "plt.figure(figsize = (15,5))\n",
        "plt.plot(new_cases_test[6:],'go')\n",
        "plt.plot(tf.squeeze(LSTM_univariate_preds), 'r-')\n",
        "plt.legend([\"y_true\", \"y_pred\"])\n",
        "plt.show()"
      ],
      "execution_count": 230,
      "outputs": [
        {
          "output_type": "display_data",
          "data": {
            "image/png": "[encoded data removed]",
            "text/plain": [
              "<Figure size 1080x360 with 1 Axes>"
            ]
          },
          "metadata": {
            "needs_background": "light"
          }
        }
      ]
    },
    {
      "cell_type": "markdown",
      "metadata": {
        "id": "UXvI3phA4RpX"
      },
      "source": [
        "# Create multivariate models\n",
        "\n",
        "Include day of week feature in data."
      ]
    },
    {
      "cell_type": "code",
      "metadata": {
        "colab": {
          "base_uri": "https://localhost:8080/"
        },
        "id": "euthCu-PRo-h",
        "outputId": "282d2140-fa0f-4ce5-b995-d0055ae4667c"
      },
      "source": [
        "# add day of week features to windows\n",
        "new_cases_week_train = np.concatenate((new_cases_train_windows_conv, week_day_train_windows), axis = 2)\n",
        "new_cases_week_valid = np.concatenate((new_cases_valid_windows_conv, week_day_valid_windows), axis = 2)\n",
        "new_cases_week_test = np.concatenate((new_cases_test_windows_conv, week_day_test_windows), axis = 2)\n",
        "\n",
        "new_cases_week_train[:2]"
      ],
      "execution_count": 231,
      "outputs": [
        {
          "output_type": "execute_result",
          "data": {
            "text/plain": [
              "array([[[0.09559633, 0.        , 0.        , 0.        , 0.        ,\n",
              "         0.        , 0.        , 1.        ],\n",
              "        [0.04770642, 1.        , 0.        , 0.        , 0.        ,\n",
              "         0.        , 0.        , 0.        ],\n",
              "        [0.16770642, 0.        , 1.        , 0.        , 0.        ,\n",
              "         0.        , 0.        , 0.        ],\n",
              "        [0.14183486, 0.        , 0.        , 1.        , 0.        ,\n",
              "         0.        , 0.        , 0.        ],\n",
              "        [0.12036697, 0.        , 0.        , 0.        , 1.        ,\n",
              "         0.        , 0.        , 0.        ],\n",
              "        [0.12825688, 0.        , 0.        , 0.        , 0.        ,\n",
              "         1.        , 0.        , 0.        ]],\n",
              "\n",
              "       [[0.00183486, 1.        , 0.        , 0.        , 0.        ,\n",
              "         0.        , 0.        , 0.        ],\n",
              "        [0.00146789, 0.        , 1.        , 0.        , 0.        ,\n",
              "         0.        , 0.        , 0.        ],\n",
              "        [0.0012844 , 0.        , 0.        , 1.        , 0.        ,\n",
              "         0.        , 0.        , 0.        ],\n",
              "        [0.00201835, 0.        , 0.        , 0.        , 1.        ,\n",
              "         0.        , 0.        , 0.        ],\n",
              "        [0.00146789, 0.        , 0.        , 0.        , 0.        ,\n",
              "         1.        , 0.        , 0.        ],\n",
              "        [0.0012844 , 0.        , 0.        , 0.        , 0.        ,\n",
              "         0.        , 1.        , 0.        ]]])"
            ]
          },
          "metadata": {},
          "execution_count": 231
        }
      ]
    },
    {
      "cell_type": "code",
      "metadata": {
        "id": "mEai2LngYkXK"
      },
      "source": [
        "# create datasets using tf.data.dataset\n",
        "\n",
        "train_data = tf.data.Dataset.from_tensor_slices(new_cases_week_train)\n",
        "train_labels = tf.data.Dataset.from_tensor_slices(new_cases_train_labels)\n",
        "train_dataset = tf.data.Dataset.zip((train_data, train_labels))\n",
        "\n",
        "train_dataset = train_dataset.batch(batch_size = 32).prefetch(buffer_size = tf.data.AUTOTUNE)\n",
        "\n",
        "valid_data = tf.data.Dataset.from_tensor_slices(new_cases_week_valid)\n",
        "valid_labels = tf.data.Dataset.from_tensor_slices(new_cases_valid_labels)\n",
        "valid_dataset = tf.data.Dataset.zip((valid_data, valid_labels))\n",
        "\n",
        "valid_dataset = valid_dataset.batch(batch_size = 32).prefetch(buffer_size = tf.data.AUTOTUNE)\n",
        "\n",
        "test_data = tf.data.Dataset.from_tensor_slices(new_cases_week_test)\n",
        "test_labels = tf.data.Dataset.from_tensor_slices(new_cases_test_labels)\n",
        "test_dataset = tf.data.Dataset.zip((test_data, test_labels))\n",
        "\n",
        "test_dataset = test_dataset.batch(batch_size = 32).prefetch(buffer_size = tf.data.AUTOTUNE)\n"
      ],
      "execution_count": 232,
      "outputs": []
    },
    {
      "cell_type": "markdown",
      "metadata": {
        "id": "4574LxY1cXki"
      },
      "source": [
        "Model 1: dense layers only"
      ]
    },
    {
      "cell_type": "code",
      "metadata": {
        "colab": {
          "base_uri": "https://localhost:8080/"
        },
        "id": "LXfCOpqKcV3Z",
        "outputId": "3e83cd55-917a-4220-ec31-e2b5d0fca05e"
      },
      "source": [
        "# build a model using Sequential API\n",
        "model_dense_multivariate = tf.keras.Sequential([\n",
        "    tf.keras.layers.Flatten(),\n",
        "    tf.keras.layers.Dense(64, activation = \"relu\"),\n",
        "    tf.keras.layers.Dense(32, activation = \"relu\"),\n",
        "    tf.keras.layers.Dense(1, activation = None)\n",
        "])\n",
        "\n",
        "# compile the model\n",
        "model_dense_multivariate.compile(optimizer = tf.keras.optimizers.Adam(),\n",
        "                               loss = tf.keras.losses.mae,\n",
        "                               metrics = [\"mae\", \"mse\"])\n",
        "\n",
        "# fit the model\n",
        "model_dense_multivariate.fit(train_dataset,\n",
        "                           epochs = 5,\n",
        "                           validation_data = valid_dataset)"
      ],
      "execution_count": 233,
      "outputs": [
        {
          "output_type": "stream",
          "name": "stdout",
          "text": [
            "Epoch 1/5\n",
            "16/16 [==============================] - 1s 9ms/step - loss: 0.0900 - mae: 0.0900 - mse: 0.0179 - val_loss: 0.2197 - val_mae: 0.2197 - val_mse: 0.0694\n",
            "Epoch 2/5\n",
            "16/16 [==============================] - 0s 3ms/step - loss: 0.0545 - mae: 0.0545 - mse: 0.0069 - val_loss: 0.1482 - val_mae: 0.1482 - val_mse: 0.0362\n",
            "Epoch 3/5\n",
            "16/16 [==============================] - 0s 3ms/step - loss: 0.0388 - mae: 0.0388 - mse: 0.0038 - val_loss: 0.1183 - val_mae: 0.1183 - val_mse: 0.0251\n",
            "Epoch 4/5\n",
            "16/16 [==============================] - 0s 3ms/step - loss: 0.0329 - mae: 0.0329 - mse: 0.0030 - val_loss: 0.1098 - val_mae: 0.1098 - val_mse: 0.0206\n",
            "Epoch 5/5\n",
            "16/16 [==============================] - 0s 3ms/step - loss: 0.0318 - mae: 0.0318 - mse: 0.0031 - val_loss: 0.1130 - val_mae: 0.1130 - val_mse: 0.0211\n"
          ]
        },
        {
          "output_type": "execute_result",
          "data": {
            "text/plain": [
              "<keras.callbacks.History at 0x7f9647ae2f10>"
            ]
          },
          "metadata": {},
          "execution_count": 233
        }
      ]
    },
    {
      "cell_type": "code",
      "metadata": {
        "colab": {
          "base_uri": "https://localhost:8080/"
        },
        "id": "5GUkvS3Uc0Pa",
        "outputId": "e5de328b-8cdf-4395-fa34-895c42cb10b1"
      },
      "source": [
        "dense_multivariate_results = model_dense_multivariate.evaluate(test_dataset)"
      ],
      "execution_count": 234,
      "outputs": [
        {
          "output_type": "stream",
          "name": "stdout",
          "text": [
            "2/2 [==============================] - 0s 6ms/step - loss: 0.0949 - mae: 0.0949 - mse: 0.0170\n"
          ]
        }
      ]
    },
    {
      "cell_type": "code",
      "metadata": {
        "colab": {
          "base_uri": "https://localhost:8080/"
        },
        "id": "iiniCmBcdHaa",
        "outputId": "695e351b-f869-4fb3-d38f-f6b342facb80"
      },
      "source": [
        "model_dense_multivariate.summary()"
      ],
      "execution_count": 235,
      "outputs": [
        {
          "output_type": "stream",
          "name": "stdout",
          "text": [
            "Model: \"sequential_23\"\n",
            "_________________________________________________________________\n",
            "Layer (type)                 Output Shape              Param #   \n",
            "=================================================================\n",
            "flatten_8 (Flatten)          (None, 48)                0         \n",
            "_________________________________________________________________\n",
            "dense_52 (Dense)             (None, 64)                3136      \n",
            "_________________________________________________________________\n",
            "dense_53 (Dense)             (None, 32)                2080      \n",
            "_________________________________________________________________\n",
            "dense_54 (Dense)             (None, 1)                 33        \n",
            "=================================================================\n",
            "Total params: 5,249\n",
            "Trainable params: 5,249\n",
            "Non-trainable params: 0\n",
            "_________________________________________________________________\n"
          ]
        }
      ]
    },
    {
      "cell_type": "code",
      "metadata": {
        "id": "34YHKFdVdc_m"
      },
      "source": [
        "dense_multivariate_preds = model_dense_multivariate.predict(test_dataset)"
      ],
      "execution_count": 236,
      "outputs": []
    },
    {
      "cell_type": "code",
      "metadata": {
        "colab": {
          "base_uri": "https://localhost:8080/",
          "height": 320
        },
        "id": "7WmLY9ybdkil",
        "outputId": "82f9aabf-63c6-4317-c246-15c2f1c09683"
      },
      "source": [
        "# plot model predictions\n",
        "\n",
        "plt.figure(figsize = (15,5))\n",
        "plt.plot(new_cases_test[6:],'go')\n",
        "plt.plot(tf.squeeze(dense_multivariate_preds), 'r-')\n",
        "plt.legend([\"y_true\", \"y_pred\"])\n",
        "plt.show()"
      ],
      "execution_count": 237,
      "outputs": [
        {
          "output_type": "display_data",
          "data": {
            "image/png": "[encoded data removed]",
            "text/plain": [
              "<Figure size 1080x360 with 1 Axes>"
            ]
          },
          "metadata": {
            "needs_background": "light"
          }
        }
      ]
    },
    {
      "cell_type": "markdown",
      "metadata": {
        "id": "RGwUx-bTeMGr"
      },
      "source": [
        "Model 2: convolutional neural network"
      ]
    },
    {
      "cell_type": "code",
      "metadata": {
        "colab": {
          "base_uri": "https://localhost:8080/"
        },
        "id": "4XiBGSWmdtgN",
        "outputId": "8705dc7c-cc59-4b82-954f-cb0759a6fbc4"
      },
      "source": [
        "# build a model using Sequential API\n",
        "model_Conv1D_multivariate = tf.keras.Sequential([\n",
        "    tf.keras.layers.Conv1D(filters = 16, kernel_size = 3, activation = \"relu\", input_shape = (6, 8)),\n",
        "    tf.keras.layers.Flatten(),\n",
        "    tf.keras.layers.Dense(32, activation = \"relu\"),\n",
        "    tf.keras.layers.Dense(1, activation = None)\n",
        "])\n",
        "\n",
        "# compile the model\n",
        "model_Conv1D_multivariate.compile(optimizer = tf.keras.optimizers.Adam(),\n",
        "                               loss = tf.keras.losses.mae,\n",
        "                               metrics = [\"mae\", \"mse\"])\n",
        "\n",
        "# fit the model\n",
        "model_Conv1D_multivariate.fit(train_dataset,\n",
        "                              epochs = 15,\n",
        "                              validation_data = valid_dataset)"
      ],
      "execution_count": 238,
      "outputs": [
        {
          "output_type": "stream",
          "name": "stdout",
          "text": [
            "Epoch 1/15\n",
            "16/16 [==============================] - 1s 9ms/step - loss: 0.2115 - mae: 0.2115 - mse: 0.0887 - val_loss: 0.4984 - val_mae: 0.4984 - val_mse: 0.3303\n",
            "Epoch 2/15\n",
            "16/16 [==============================] - 0s 2ms/step - loss: 0.1333 - mae: 0.1333 - mse: 0.0434 - val_loss: 0.5110 - val_mae: 0.5110 - val_mse: 0.3292\n",
            "Epoch 3/15\n",
            "16/16 [==============================] - 0s 2ms/step - loss: 0.1094 - mae: 0.1094 - mse: 0.0327 - val_loss: 0.4037 - val_mae: 0.4037 - val_mse: 0.2131\n",
            "Epoch 4/15\n",
            "16/16 [==============================] - 0s 3ms/step - loss: 0.0810 - mae: 0.0810 - mse: 0.0194 - val_loss: 0.2940 - val_mae: 0.2940 - val_mse: 0.1163\n",
            "Epoch 5/15\n",
            "16/16 [==============================] - 0s 2ms/step - loss: 0.0535 - mae: 0.0535 - mse: 0.0089 - val_loss: 0.1475 - val_mae: 0.1475 - val_mse: 0.0355\n",
            "Epoch 6/15\n",
            "16/16 [==============================] - 0s 2ms/step - loss: 0.0368 - mae: 0.0368 - mse: 0.0043 - val_loss: 0.1023 - val_mae: 0.1023 - val_mse: 0.0163\n",
            "Epoch 7/15\n",
            "16/16 [==============================] - 0s 3ms/step - loss: 0.0359 - mae: 0.0359 - mse: 0.0035 - val_loss: 0.0981 - val_mae: 0.0981 - val_mse: 0.0174\n",
            "Epoch 8/15\n",
            "16/16 [==============================] - 0s 3ms/step - loss: 0.0324 - mae: 0.0324 - mse: 0.0033 - val_loss: 0.1079 - val_mae: 0.1079 - val_mse: 0.0210\n",
            "Epoch 9/15\n",
            "16/16 [==============================] - 0s 3ms/step - loss: 0.0319 - mae: 0.0319 - mse: 0.0034 - val_loss: 0.0892 - val_mae: 0.0892 - val_mse: 0.0152\n",
            "Epoch 10/15\n",
            "16/16 [==============================] - 0s 3ms/step - loss: 0.0314 - mae: 0.0314 - mse: 0.0033 - val_loss: 0.0896 - val_mae: 0.0896 - val_mse: 0.0150\n",
            "Epoch 11/15\n",
            "16/16 [==============================] - 0s 3ms/step - loss: 0.0314 - mae: 0.0314 - mse: 0.0033 - val_loss: 0.1088 - val_mae: 0.1088 - val_mse: 0.0201\n",
            "Epoch 12/15\n",
            "16/16 [==============================] - 0s 2ms/step - loss: 0.0304 - mae: 0.0304 - mse: 0.0033 - val_loss: 0.0947 - val_mae: 0.0947 - val_mse: 0.0156\n",
            "Epoch 13/15\n",
            "16/16 [==============================] - 0s 3ms/step - loss: 0.0295 - mae: 0.0295 - mse: 0.0032 - val_loss: 0.0994 - val_mae: 0.0994 - val_mse: 0.0171\n",
            "Epoch 14/15\n",
            "16/16 [==============================] - 0s 3ms/step - loss: 0.0288 - mae: 0.0288 - mse: 0.0032 - val_loss: 0.0965 - val_mae: 0.0965 - val_mse: 0.0164\n",
            "Epoch 15/15\n",
            "16/16 [==============================] - 0s 3ms/step - loss: 0.0305 - mae: 0.0305 - mse: 0.0033 - val_loss: 0.1036 - val_mae: 0.1036 - val_mse: 0.0182\n"
          ]
        },
        {
          "output_type": "execute_result",
          "data": {
            "text/plain": [
              "<keras.callbacks.History at 0x7f96477ad3d0>"
            ]
          },
          "metadata": {},
          "execution_count": 238
        }
      ]
    },
    {
      "cell_type": "code",
      "metadata": {
        "colab": {
          "base_uri": "https://localhost:8080/"
        },
        "id": "fC0XAQSPe4tL",
        "outputId": "c2aa8156-9b18-4be7-d1f3-6e601beab048"
      },
      "source": [
        "Conv1D_multivariate_results = model_Conv1D_multivariate.evaluate(test_dataset)"
      ],
      "execution_count": 239,
      "outputs": [
        {
          "output_type": "stream",
          "name": "stdout",
          "text": [
            "2/2 [==============================] - 0s 4ms/step - loss: 0.0942 - mae: 0.0942 - mse: 0.0161\n"
          ]
        }
      ]
    },
    {
      "cell_type": "code",
      "metadata": {
        "colab": {
          "base_uri": "https://localhost:8080/"
        },
        "id": "Zd10x0W_fTRi",
        "outputId": "fdcedeae-bf5e-4dcb-f065-f4b7c9a9e8db"
      },
      "source": [
        "model_Conv1D_multivariate.summary()"
      ],
      "execution_count": 240,
      "outputs": [
        {
          "output_type": "stream",
          "name": "stdout",
          "text": [
            "Model: \"sequential_24\"\n",
            "_________________________________________________________________\n",
            "Layer (type)                 Output Shape              Param #   \n",
            "=================================================================\n",
            "conv1d_5 (Conv1D)            (None, 4, 16)             400       \n",
            "_________________________________________________________________\n",
            "flatten_9 (Flatten)          (None, 64)                0         \n",
            "_________________________________________________________________\n",
            "dense_55 (Dense)             (None, 32)                2080      \n",
            "_________________________________________________________________\n",
            "dense_56 (Dense)             (None, 1)                 33        \n",
            "=================================================================\n",
            "Total params: 2,513\n",
            "Trainable params: 2,513\n",
            "Non-trainable params: 0\n",
            "_________________________________________________________________\n"
          ]
        }
      ]
    },
    {
      "cell_type": "code",
      "metadata": {
        "id": "psgsbs75fDy_"
      },
      "source": [
        "Conv1D_multivariate_preds = model_Conv1D_multivariate.predict(test_dataset)"
      ],
      "execution_count": 241,
      "outputs": []
    },
    {
      "cell_type": "code",
      "metadata": {
        "colab": {
          "base_uri": "https://localhost:8080/",
          "height": 320
        },
        "id": "UPywuR0xfQ-d",
        "outputId": "7e69ceb7-a13c-46f5-876c-81ff0d7a742d"
      },
      "source": [
        "# plot model predictions\n",
        "\n",
        "plt.figure(figsize = (15,5))\n",
        "plt.plot(new_cases_test[6:],'go')\n",
        "plt.plot(tf.squeeze(dense_multivariate_preds), 'r-')\n",
        "plt.legend([\"y_true\", \"y_pred\"])\n",
        "plt.show()"
      ],
      "execution_count": 242,
      "outputs": [
        {
          "output_type": "display_data",
          "data": {
            "image/png": "[encoded data removed]",
            "text/plain": [
              "<Figure size 1080x360 with 1 Axes>"
            ]
          },
          "metadata": {
            "needs_background": "light"
          }
        }
      ]
    },
    {
      "cell_type": "markdown",
      "metadata": {
        "id": "uwrCUAXZflDd"
      },
      "source": [
        "Model 3: Recurrent Neural Network"
      ]
    },
    {
      "cell_type": "code",
      "metadata": {
        "colab": {
          "base_uri": "https://localhost:8080/"
        },
        "id": "aiZa_ooqfWmt",
        "outputId": "066aa047-b8e2-40a6-9179-32c7ccf8d969"
      },
      "source": [
        "# build a model using Sequential API\n",
        "model_LSTM_multivariate = tf.keras.Sequential([\n",
        "    tf.keras.layers.LSTM(64, activation = \"relu\"),\n",
        "    tf.keras.layers.Dense(32, activation = \"relu\"),\n",
        "    tf.keras.layers.Dense(1, activation = None)\n",
        "])\n",
        "\n",
        "# compile the model\n",
        "model_LSTM_multivariate.compile(optimizer = tf.keras.optimizers.Adam(learning_rate = 0.01),\n",
        "                               loss = tf.keras.losses.mae,\n",
        "                               metrics = [\"mae\", \"mse\"])\n",
        "\n",
        "# fit the model\n",
        "model_LSTM_multivariate.fit(train_dataset,\n",
        "                           epochs = 15,\n",
        "                           validation_data = valid_dataset)"
      ],
      "execution_count": 243,
      "outputs": [
        {
          "output_type": "stream",
          "name": "stdout",
          "text": [
            "Epoch 1/15\n",
            "16/16 [==============================] - 2s 22ms/step - loss: 0.0965 - mae: 0.0965 - mse: 0.0249 - val_loss: 0.1803 - val_mae: 0.1803 - val_mse: 0.0467\n",
            "Epoch 2/15\n",
            "16/16 [==============================] - 0s 7ms/step - loss: 0.0580 - mae: 0.0580 - mse: 0.0068 - val_loss: 0.1400 - val_mae: 0.1400 - val_mse: 0.0320\n",
            "Epoch 3/15\n",
            "16/16 [==============================] - 0s 6ms/step - loss: 0.0380 - mae: 0.0380 - mse: 0.0036 - val_loss: 0.1199 - val_mae: 0.1199 - val_mse: 0.0257\n",
            "Epoch 4/15\n",
            "16/16 [==============================] - 0s 7ms/step - loss: 0.0311 - mae: 0.0311 - mse: 0.0029 - val_loss: 0.1223 - val_mae: 0.1223 - val_mse: 0.0254\n",
            "Epoch 5/15\n",
            "16/16 [==============================] - 0s 6ms/step - loss: 0.0338 - mae: 0.0338 - mse: 0.0033 - val_loss: 0.1010 - val_mae: 0.1010 - val_mse: 0.0176\n",
            "Epoch 6/15\n",
            "16/16 [==============================] - 0s 7ms/step - loss: 0.0310 - mae: 0.0310 - mse: 0.0028 - val_loss: 0.1215 - val_mae: 0.1215 - val_mse: 0.0247\n",
            "Epoch 7/15\n",
            "16/16 [==============================] - 0s 6ms/step - loss: 0.0319 - mae: 0.0319 - mse: 0.0030 - val_loss: 0.0962 - val_mae: 0.0962 - val_mse: 0.0204\n",
            "Epoch 8/15\n",
            "16/16 [==============================] - 0s 6ms/step - loss: 0.0288 - mae: 0.0288 - mse: 0.0026 - val_loss: 0.0915 - val_mae: 0.0915 - val_mse: 0.0149\n",
            "Epoch 9/15\n",
            "16/16 [==============================] - 0s 6ms/step - loss: 0.0306 - mae: 0.0306 - mse: 0.0030 - val_loss: 0.1172 - val_mae: 0.1172 - val_mse: 0.0228\n",
            "Epoch 10/15\n",
            "16/16 [==============================] - 0s 7ms/step - loss: 0.0307 - mae: 0.0307 - mse: 0.0031 - val_loss: 0.1084 - val_mae: 0.1084 - val_mse: 0.0237\n",
            "Epoch 11/15\n",
            "16/16 [==============================] - 0s 7ms/step - loss: 0.0270 - mae: 0.0270 - mse: 0.0027 - val_loss: 0.0826 - val_mae: 0.0826 - val_mse: 0.0132\n",
            "Epoch 12/15\n",
            "16/16 [==============================] - 0s 6ms/step - loss: 0.0289 - mae: 0.0289 - mse: 0.0028 - val_loss: 0.1486 - val_mae: 0.1486 - val_mse: 0.0317\n",
            "Epoch 13/15\n",
            "16/16 [==============================] - 0s 7ms/step - loss: 0.0352 - mae: 0.0352 - mse: 0.0040 - val_loss: 0.1082 - val_mae: 0.1082 - val_mse: 0.0203\n",
            "Epoch 14/15\n",
            "16/16 [==============================] - 0s 6ms/step - loss: 0.0344 - mae: 0.0344 - mse: 0.0035 - val_loss: 0.1079 - val_mae: 0.1079 - val_mse: 0.0225\n",
            "Epoch 15/15\n",
            "16/16 [==============================] - 0s 7ms/step - loss: 0.0299 - mae: 0.0299 - mse: 0.0029 - val_loss: 0.1017 - val_mae: 0.1017 - val_mse: 0.0173\n"
          ]
        },
        {
          "output_type": "execute_result",
          "data": {
            "text/plain": [
              "<keras.callbacks.History at 0x7f96475f9950>"
            ]
          },
          "metadata": {},
          "execution_count": 243
        }
      ]
    },
    {
      "cell_type": "code",
      "metadata": {
        "colab": {
          "base_uri": "https://localhost:8080/"
        },
        "id": "JjKTDIUpf2M1",
        "outputId": "006039db-74ef-4619-f43a-295498a3ea15"
      },
      "source": [
        "LSTM_multivariate_results = model_LSTM_multivariate.evaluate(test_dataset)"
      ],
      "execution_count": 244,
      "outputs": [
        {
          "output_type": "stream",
          "name": "stdout",
          "text": [
            "2/2 [==============================] - 0s 8ms/step - loss: 0.0900 - mae: 0.0900 - mse: 0.0159\n"
          ]
        }
      ]
    },
    {
      "cell_type": "code",
      "metadata": {
        "colab": {
          "base_uri": "https://localhost:8080/"
        },
        "id": "VOuOi2NCgIQN",
        "outputId": "c3a5b674-d0c8-4d70-b11b-35226792be24"
      },
      "source": [
        "model_LSTM_multivariate.summary()"
      ],
      "execution_count": 245,
      "outputs": [
        {
          "output_type": "stream",
          "name": "stdout",
          "text": [
            "Model: \"sequential_25\"\n",
            "_________________________________________________________________\n",
            "Layer (type)                 Output Shape              Param #   \n",
            "=================================================================\n",
            "lstm_12 (LSTM)               (None, 64)                18688     \n",
            "_________________________________________________________________\n",
            "dense_57 (Dense)             (None, 32)                2080      \n",
            "_________________________________________________________________\n",
            "dense_58 (Dense)             (None, 1)                 33        \n",
            "=================================================================\n",
            "Total params: 20,801\n",
            "Trainable params: 20,801\n",
            "Non-trainable params: 0\n",
            "_________________________________________________________________\n"
          ]
        }
      ]
    },
    {
      "cell_type": "code",
      "metadata": {
        "id": "bHoT_x7xgK5l"
      },
      "source": [
        "LSTM_multivariate_preds = model_LSTM_multivariate.predict(test_dataset)"
      ],
      "execution_count": 246,
      "outputs": []
    },
    {
      "cell_type": "code",
      "metadata": {
        "colab": {
          "base_uri": "https://localhost:8080/",
          "height": 320
        },
        "id": "8O_hUTlMgpbx",
        "outputId": "b09d3ff8-8a96-4944-c97a-7e7cdbd93045"
      },
      "source": [
        "# plot model predictions\n",
        "\n",
        "plt.figure(figsize = (15,5))\n",
        "plt.plot(new_cases_test[6:],'go')\n",
        "plt.plot(tf.squeeze(LSTM_multivariate_preds), 'r-')\n",
        "plt.legend([\"y_true\", \"y_pred\"])\n",
        "plt.show()"
      ],
      "execution_count": 247,
      "outputs": [
        {
          "output_type": "display_data",
          "data": {
            "image/png": "[encoded data removed]",
            "text/plain": [
              "<Figure size 1080x360 with 1 Axes>"
            ]
          },
          "metadata": {
            "needs_background": "light"
          }
        }
      ]
    },
    {
      "cell_type": "markdown",
      "metadata": {
        "id": "27n2lKpCkqiC"
      },
      "source": [
        "# Compare model results\n",
        "\n",
        "Plot all results and choose the best performing model."
      ]
    },
    {
      "cell_type": "code",
      "metadata": {
        "colab": {
          "base_uri": "https://localhost:8080/"
        },
        "id": "S-gV5kW3lZ-p",
        "outputId": "9a5fbb22-d863-4c08-aa13-f0edb1b22acc"
      },
      "source": [
        "dense_univariate_results[2]"
      ],
      "execution_count": 248,
      "outputs": [
        {
          "output_type": "execute_result",
          "data": {
            "text/plain": [
              "0.030701488256454468"
            ]
          },
          "metadata": {},
          "execution_count": 248
        }
      ]
    },
    {
      "cell_type": "code",
      "metadata": {
        "colab": {
          "base_uri": "https://localhost:8080/",
          "height": 409
        },
        "id": "dZm07k-ZgtAl",
        "outputId": "d0b429d6-12fd-40f3-b65d-2aaa8351d7d1"
      },
      "source": [
        "# plot results of all models\n",
        "\n",
        "mae_results = {\"naive\" : naive_forecast_results[\"mae\"],\n",
        "               \"dense_univariate\" : dense_univariate_results[1],\n",
        "               \"Conv1D_univariate\" : Conv1D_univariate_results[1],\n",
        "               \"LSTM_univariate\" : LSTM_univariate_results[1],\n",
        "               \"dense_multivariate\" : dense_multivariate_results[1],\n",
        "               \"Conv1D_multivariate\" : Conv1D_multivariate_results[1],\n",
        "               \"LSTM_multivariate\" : LSTM_multivariate_results[1]}\n",
        "\n",
        "mse_results = {\"naive\" : naive_forecast_results[\"mse\"],\n",
        "               \"dense_univariate\" : dense_univariate_results[2],\n",
        "               \"Conv1D_univariate\" : Conv1D_univariate_results[2],\n",
        "               \"LSTM_univariate\" : LSTM_univariate_results[2],\n",
        "               \"dense_multivariate\" : dense_multivariate_results[2],\n",
        "               \"Conv1D_multivariate\" : Conv1D_multivariate_results[2],\n",
        "               \"LSTM_multivariate\" : LSTM_multivariate_results[2]}\n",
        "\n",
        "plt.figure(figsize = (15,5))\n",
        "plt.subplot(1,2,1)\n",
        "plt.bar(x = mae_results.keys(), height = mae_results.values())\n",
        "plt.xticks(rotation = 45)\n",
        "plt.ylabel(\"mae\")\n",
        "plt.subplot(1,2,2)\n",
        "plt.bar(x = mse_results.keys(), height = mse_results.values())\n",
        "plt.xticks(rotation = 45)\n",
        "plt.ylabel(\"mse\")"
      ],
      "execution_count": 249,
      "outputs": [
        {
          "output_type": "execute_result",
          "data": {
            "text/plain": [
              "Text(0, 0.5, 'mse')"
            ]
          },
          "metadata": {},
          "execution_count": 249
        },
        {
          "output_type": "display_data",
          "data": {
            "image/png": "[encoded data removed]",
            "text/plain": [
              "<Figure size 1080x360 with 2 Axes>"
            ]
          },
          "metadata": {
            "needs_background": "light"
          }
        }
      ]
    },
    {
      "cell_type": "markdown",
      "metadata": {
        "id": "t6utDVwmoaoi"
      },
      "source": [
        "Looks like LSTM model with multivariate input got the best results"
      ]
    },
    {
      "cell_type": "markdown",
      "metadata": {
        "id": "vfhawa9vqkeg"
      },
      "source": [
        "# Predict next day\n",
        "\n",
        "Use the best model to estimate number of positive Covid-19 cases tomorrow."
      ]
    },
    {
      "cell_type": "code",
      "metadata": {
        "colab": {
          "base_uri": "https://localhost:8080/"
        },
        "id": "lliZEg7qq3wj",
        "outputId": "ca3b59da-021e-446e-8e5a-4f3a74cc8eba"
      },
      "source": [
        "data_for_tomorrow = np.concatenate((np.expand_dims(new_cases[-6:]/new_cases_max, axis = 1), week_day[-6:]), axis = 1)\n",
        "prediction_for_tomorrow = tf.squeeze(new_cases_max * model_LSTM_multivariate.predict(tf.expand_dims(data_for_tomorrow, axis = 0)))\n",
        "\n",
        "print(f\"Today is {date[-1]}.\\nestimated number of new Covid_19 cases for {date[-1] + datetime.timedelta(days = 1)} is {int(prediction_for_tomorrow)})\")"
      ],
      "execution_count": 250,
      "outputs": [
        {
          "output_type": "stream",
          "name": "stdout",
          "text": [
            "Today is 2021-11-01.\n",
            "estimated number of new Covid_19 cases for 2021-11-02 is 3828)\n"
          ]
        }
      ]
    }
  ]
}