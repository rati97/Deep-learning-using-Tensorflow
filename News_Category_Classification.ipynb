{
  "nbformat": 4,
  "nbformat_minor": 0,
  "metadata": {
    "colab": {
      "name": "News_Category_Classification.ipynb",
      "provenance": [],
      "collapsed_sections": []
    },
    "kernelspec": {
      "name": "python3",
      "display_name": "Python 3"
    },
    "language_info": {
      "name": "python"
    },
    "accelerator": "GPU"
  },
  "cells": [
    {
      "cell_type": "markdown",
      "metadata": {
        "id": "LSWzKF79iQfd"
      },
      "source": [
        "# News classification based on category\n",
        "\n",
        "This notebook implements text classification using Tensorflow.\n",
        "\n",
        "Dataset used:\n",
        "\"News Category Dataset\" by Rishabh Misra from kaggle\n",
        "https://www.kaggle.com/rmisra/news-category-dataset \n",
        "\n",
        "While working on this notebook, i took some ideas from mrdbourke's Tensorflow deep learning course:\n",
        "https://github.com/mrdbourke/tensorflow-deep-learning/blob/main/09_SkimLit_nlp_milestone_project_2.ipynb\n"
      ]
    },
    {
      "cell_type": "markdown",
      "metadata": {
        "id": "ScqC7q_yhNrW"
      },
      "source": [
        "#Load and analyze text data"
      ]
    },
    {
      "cell_type": "code",
      "metadata": {
        "id": "qGJIfEhPXQXD"
      },
      "source": [
        "# unzip data\n",
        "import zipfile\n",
        "\n",
        "zip = zipfile.ZipFile(\"archive.zip\")\n",
        "zip.extractall()"
      ],
      "execution_count": 1,
      "outputs": []
    },
    {
      "cell_type": "code",
      "metadata": {
        "id": "A_pVLtn2Xin_"
      },
      "source": [
        "# file is in .json format, let's use json library to read it\n",
        "import json\n",
        "\n",
        "# open file\n",
        "f = open(\"/content/News_Category_Dataset_v2.json\")\n",
        "\n",
        "# get json strings\n",
        "json_strings = f.readlines()\n",
        "\n",
        "# turn json strings into list of dictionaries\n",
        "data = []\n",
        "for string in json_strings:\n",
        "  data.append(json.loads(string))\n",
        "\n",
        "# close file\n",
        "f.close()"
      ],
      "execution_count": 2,
      "outputs": []
    },
    {
      "cell_type": "code",
      "metadata": {
        "id": "P6mD1obDbQSm",
        "colab": {
          "base_uri": "https://localhost:8080/"
        },
        "outputId": "af39f29b-2461-471c-d86d-749e376ba76a"
      },
      "source": [
        "# view samples\n",
        "data[:3]"
      ],
      "execution_count": 3,
      "outputs": [
        {
          "output_type": "execute_result",
          "data": {
            "text/plain": [
              "[{'authors': 'Melissa Jeltsen',\n",
              "  'category': 'CRIME',\n",
              "  'date': '2018-05-26',\n",
              "  'headline': 'There Were 2 Mass Shootings In Texas Last Week, But Only 1 On TV',\n",
              "  'link': 'https://www.huffingtonpost.com/entry/texas-amanda-painter-mass-shooting_us_5b081ab4e4b0802d69caad89',\n",
              "  'short_description': 'She left her husband. He killed their children. Just another day in America.'},\n",
              " {'authors': 'Andy McDonald',\n",
              "  'category': 'ENTERTAINMENT',\n",
              "  'date': '2018-05-26',\n",
              "  'headline': \"Will Smith Joins Diplo And Nicky Jam For The 2018 World Cup's Official Song\",\n",
              "  'link': 'https://www.huffingtonpost.com/entry/will-smith-joins-diplo-and-nicky-jam-for-the-official-2018-world-cup-song_us_5b09726fe4b0fdb2aa541201',\n",
              "  'short_description': 'Of course it has a song.'},\n",
              " {'authors': 'Ron Dicker',\n",
              "  'category': 'ENTERTAINMENT',\n",
              "  'date': '2018-05-26',\n",
              "  'headline': 'Hugh Grant Marries For The First Time At Age 57',\n",
              "  'link': 'https://www.huffingtonpost.com/entry/hugh-grant-marries_us_5b09212ce4b0568a880b9a8c',\n",
              "  'short_description': 'The actor and his longtime girlfriend Anna Eberstein tied the knot in a civil ceremony.'}]"
            ]
          },
          "metadata": {},
          "execution_count": 3
        }
      ]
    },
    {
      "cell_type": "code",
      "metadata": {
        "id": "Y5EJH4yoblye",
        "colab": {
          "base_uri": "https://localhost:8080/",
          "height": 306
        },
        "outputId": "00052c80-3cd6-49f5-cb6b-94015930d4e7"
      },
      "source": [
        "# turn our list of dictionaries into pandas dataframe\n",
        "import pandas as pd\n",
        "\n",
        "df = pd.DataFrame(data)\n",
        "df = df.sample(frac = 1) # shuffle dataframe\n",
        "\n",
        "# view first 5 samples\n",
        "df.head()"
      ],
      "execution_count": 4,
      "outputs": [
        {
          "output_type": "execute_result",
          "data": {
            "text/html": [
              "<div>\n",
              "<style scoped>\n",
              "    .dataframe tbody tr th:only-of-type {\n",
              "        vertical-align: middle;\n",
              "    }\n",
              "\n",
              "    .dataframe tbody tr th {\n",
              "        vertical-align: top;\n",
              "    }\n",
              "\n",
              "    .dataframe thead th {\n",
              "        text-align: right;\n",
              "    }\n",
              "</style>\n",
              "<table border=\"1\" class=\"dataframe\">\n",
              "  <thead>\n",
              "    <tr style=\"text-align: right;\">\n",
              "      <th></th>\n",
              "      <th>category</th>\n",
              "      <th>headline</th>\n",
              "      <th>authors</th>\n",
              "      <th>link</th>\n",
              "      <th>short_description</th>\n",
              "      <th>date</th>\n",
              "    </tr>\n",
              "  </thead>\n",
              "  <tbody>\n",
              "    <tr>\n",
              "      <th>174199</th>\n",
              "      <td>SCIENCE</td>\n",
              "      <td>Curiosity Rover Team Shifts Back To Earth Time...</td>\n",
              "      <td></td>\n",
              "      <td>https://www.huffingtonpost.com/entry/curiosity...</td>\n",
              "      <td>By: SPACE.com Staff Published: 11/09/2012 08:1...</td>\n",
              "      <td>2012-11-10</td>\n",
              "    </tr>\n",
              "    <tr>\n",
              "      <th>47235</th>\n",
              "      <td>COMEDY</td>\n",
              "      <td>Your Grandparents Want To Tell You Not To Vote...</td>\n",
              "      <td>Andy McDonald and Carol Kuruvilla</td>\n",
              "      <td>https://www.huffingtonpost.com/entry/your-gran...</td>\n",
              "      <td>They will literally haunt you.</td>\n",
              "      <td>2016-09-23</td>\n",
              "    </tr>\n",
              "    <tr>\n",
              "      <th>96833</th>\n",
              "      <td>WORLDPOST</td>\n",
              "      <td>Cubans Demand a Direct and Secret Ballot to El...</td>\n",
              "      <td>Yoani Sanchez, ContributorPublisher of 14ymedi...</td>\n",
              "      <td>https://www.huffingtonpost.com/entry/cubans-de...</td>\n",
              "      <td>Among the notable absences in the discussion, ...</td>\n",
              "      <td>2015-03-08</td>\n",
              "    </tr>\n",
              "    <tr>\n",
              "      <th>2725</th>\n",
              "      <td>ENTERTAINMENT</td>\n",
              "      <td>Jaime King's 4-Year-Old Son Hit With Broken Gl...</td>\n",
              "      <td>Ron Dicker</td>\n",
              "      <td>https://www.huffingtonpost.com/entry/jaime-kin...</td>\n",
              "      <td>Police said they charged a man who smashed the...</td>\n",
              "      <td>2018-04-05</td>\n",
              "    </tr>\n",
              "    <tr>\n",
              "      <th>200452</th>\n",
              "      <td>HOME &amp; LIVING</td>\n",
              "      <td>Color Palette: Shades Of Style From Our Favori...</td>\n",
              "      <td>Dickson Wong</td>\n",
              "      <td>https://www.huffingtonpost.com/entry/color-pal...</td>\n",
              "      <td>It goes without saying that we look to everyth...</td>\n",
              "      <td>2012-02-01</td>\n",
              "    </tr>\n",
              "  </tbody>\n",
              "</table>\n",
              "</div>"
            ],
            "text/plain": [
              "             category  ...        date\n",
              "174199        SCIENCE  ...  2012-11-10\n",
              "47235          COMEDY  ...  2016-09-23\n",
              "96833       WORLDPOST  ...  2015-03-08\n",
              "2725    ENTERTAINMENT  ...  2018-04-05\n",
              "200452  HOME & LIVING  ...  2012-02-01\n",
              "\n",
              "[5 rows x 6 columns]"
            ]
          },
          "metadata": {},
          "execution_count": 4
        }
      ]
    },
    {
      "cell_type": "code",
      "metadata": {
        "id": "g5czoCcNdZIT",
        "colab": {
          "base_uri": "https://localhost:8080/"
        },
        "outputId": "a27e812c-7cf1-4085-aff3-8304401131eb"
      },
      "source": [
        "df.info()"
      ],
      "execution_count": 5,
      "outputs": [
        {
          "output_type": "stream",
          "name": "stdout",
          "text": [
            "<class 'pandas.core.frame.DataFrame'>\n",
            "Int64Index: 200853 entries, 174199 to 12762\n",
            "Data columns (total 6 columns):\n",
            " #   Column             Non-Null Count   Dtype \n",
            "---  ------             --------------   ----- \n",
            " 0   category           200853 non-null  object\n",
            " 1   headline           200853 non-null  object\n",
            " 2   authors            200853 non-null  object\n",
            " 3   link               200853 non-null  object\n",
            " 4   short_description  200853 non-null  object\n",
            " 5   date               200853 non-null  object\n",
            "dtypes: object(6)\n",
            "memory usage: 10.7+ MB\n"
          ]
        }
      ]
    },
    {
      "cell_type": "markdown",
      "metadata": {
        "id": "mnQk_db1h9D6"
      },
      "source": [
        "# News classification based on short description\n",
        "\n",
        "as we can see, each row of the dataframe contains news headline and short description.\n",
        "\n",
        "let's first try to build a model that predicts news category based on only short description"
      ]
    },
    {
      "cell_type": "markdown",
      "metadata": {
        "id": "WW2ZW3jippT0"
      },
      "source": [
        "Prepare data"
      ]
    },
    {
      "cell_type": "code",
      "metadata": {
        "id": "Fl5myxjppwen"
      },
      "source": [
        "# get features and labels from pandas dataframe\n",
        "X = df[\"short_description\"].values\n",
        "y = df[\"category\"].values"
      ],
      "execution_count": 6,
      "outputs": []
    },
    {
      "cell_type": "code",
      "metadata": {
        "id": "hv4Z0ZeKrQSt",
        "colab": {
          "base_uri": "https://localhost:8080/"
        },
        "outputId": "972553f1-e913-4256-9773-82bc02377abc"
      },
      "source": [
        "# split our data into train(80%) and test(20%) subsets\n",
        "from sklearn.model_selection import train_test_split\n",
        "\n",
        "X_train, X_test, y_train, y_test = train_test_split(X, y, test_size = 0.2, random_state = 42)\n",
        "\n",
        "len(X_train), len(y_train), len(X_test), len(y_test)"
      ],
      "execution_count": 7,
      "outputs": [
        {
          "output_type": "execute_result",
          "data": {
            "text/plain": [
              "(160682, 160682, 40171, 40171)"
            ]
          },
          "metadata": {},
          "execution_count": 7
        }
      ]
    },
    {
      "cell_type": "code",
      "metadata": {
        "id": "oF97s1Akt5Lv"
      },
      "source": [
        "# use one-hot-encoding to turn string labels into numbers\n",
        "from sklearn.preprocessing import OneHotEncoder\n",
        "import numpy as np\n",
        "\n",
        "# define one-hot encoder\n",
        "enc = OneHotEncoder(sparse = False)\n",
        "# fit one-hot encoder\n",
        "enc.fit(np.expand_dims(y_train, 1))\n",
        "\n",
        "# encode train and labels data\n",
        "y_train_one_hot = enc.transform(np.expand_dims(y_train, 1))\n",
        "y_test_one_hot = enc.transform(np.expand_dims(y_test, 1))\n",
        "\n",
        "# get class names\n",
        "class_names = enc.get_feature_names()\n",
        "\n",
        "# sklearn appends 'x0_' string in the start of feature names, let's remove those\n",
        "for n, class_name in enumerate(class_names): \n",
        "  class_names[n] = class_name[3:]"
      ],
      "execution_count": 8,
      "outputs": []
    },
    {
      "cell_type": "code",
      "metadata": {
        "id": "PUvJ60O4yYWl",
        "colab": {
          "base_uri": "https://localhost:8080/"
        },
        "outputId": "67e42743-700e-412b-93a9-439a0147c8fa"
      },
      "source": [
        "class_names"
      ],
      "execution_count": 9,
      "outputs": [
        {
          "output_type": "execute_result",
          "data": {
            "text/plain": [
              "array(['ARTS', 'ARTS & CULTURE', 'BLACK VOICES', 'BUSINESS', 'COLLEGE',\n",
              "       'COMEDY', 'CRIME', 'CULTURE & ARTS', 'DIVORCE', 'EDUCATION',\n",
              "       'ENTERTAINMENT', 'ENVIRONMENT', 'FIFTY', 'FOOD & DRINK',\n",
              "       'GOOD NEWS', 'GREEN', 'HEALTHY LIVING', 'HOME & LIVING', 'IMPACT',\n",
              "       'LATINO VOICES', 'MEDIA', 'MONEY', 'PARENTING', 'PARENTS',\n",
              "       'POLITICS', 'QUEER VOICES', 'RELIGION', 'SCIENCE', 'SPORTS',\n",
              "       'STYLE', 'STYLE & BEAUTY', 'TASTE', 'TECH', 'THE WORLDPOST',\n",
              "       'TRAVEL', 'WEDDINGS', 'WEIRD NEWS', 'WELLNESS', 'WOMEN',\n",
              "       'WORLD NEWS', 'WORLDPOST'], dtype=object)"
            ]
          },
          "metadata": {},
          "execution_count": 9
        }
      ]
    },
    {
      "cell_type": "code",
      "metadata": {
        "id": "OmzdI8H26x8t",
        "colab": {
          "base_uri": "https://localhost:8080/",
          "height": 351
        },
        "outputId": "cf4273e8-d4d2-4211-acc8-8d3fb56a25c8"
      },
      "source": [
        "# check distribution of number of words in short descriptions\n",
        "import matplotlib.pyplot as plt\n",
        "\n",
        "n_words = []\n",
        "\n",
        "for description in X_train:\n",
        "  n_words.append(len(description.split()))\n",
        "\n",
        "n_words = np.sort(n_words)\n",
        "plt.figure(figsize = (10,5))\n",
        "plt.hist(n_words, bins = 64)\n",
        "plt.xlabel(\"number of words in short description\")\n",
        "plt.ylabel(\"number of short descriptions\")\n",
        "plt.show()\n",
        "\n",
        "description_max_length = int(np.percentile(n_words, 99))\n",
        "print(f\"99% of the descriptions are shorter than {description_max_length} words\")"
      ],
      "execution_count": 10,
      "outputs": [
        {
          "output_type": "display_data",
          "data": {
            "image/png": "[encoded data removed]",
            "text/plain": [
              "<Figure size 720x360 with 1 Axes>"
            ]
          },
          "metadata": {
            "needs_background": "light"
          }
        },
        {
          "output_type": "stream",
          "name": "stdout",
          "text": [
            "99% of the descriptions are shorter than 57 words\n"
          ]
        }
      ]
    },
    {
      "cell_type": "code",
      "metadata": {
        "id": "c0JduHjX1aUV"
      },
      "source": [
        "# use tf.keras.layers.TextVectorization to turn sentences into sequence of numbers\n",
        "import tensorflow as tf\n",
        "\n",
        "vocab_size = 1000\n",
        "\n",
        "short_description_vectorizer = tf.keras.layers.TextVectorization(max_tokens = vocab_size, \n",
        "                                                                 output_sequence_length = description_max_length)\n",
        "short_description_vectorizer.adapt(X_train)"
      ],
      "execution_count": 11,
      "outputs": []
    },
    {
      "cell_type": "code",
      "metadata": {
        "id": "iqw2PXJeAoOH"
      },
      "source": [
        "# use embedding layer that turns words into fixed sized vectors to capture their meaning while training\n",
        "\n",
        "short_description_embedding = tf.keras.layers.Embedding(input_dim = vocab_size,\n",
        "                                            output_dim = 128,\n",
        "                                            input_length = description_max_length\n",
        "                                            )"
      ],
      "execution_count": 12,
      "outputs": []
    },
    {
      "cell_type": "code",
      "metadata": {
        "id": "Wxt4A4pYKZZB"
      },
      "source": [
        "# prepare datasets\n",
        "train_values = tf.data.Dataset.from_tensor_slices(X_train)\n",
        "train_labels = tf.data.Dataset.from_tensor_slices(y_train_one_hot)\n",
        "train_dataset = tf.data.Dataset.zip((train_values, train_labels))\n",
        "\n",
        "# batch and prefetch to optimize performance\n",
        "train_dataset = train_dataset.batch(32).prefetch(buffer_size = tf.data.AUTOTUNE)\n",
        "\n",
        "# do same for test data\n",
        "test_values = tf.data.Dataset.from_tensor_slices(X_test)\n",
        "test_labels = tf.data.Dataset.from_tensor_slices(y_test_one_hot)\n",
        "test_dataset = tf.data.Dataset.zip((test_values, test_labels))\n",
        "\n",
        "test_dataset = test_dataset.batch(32).prefetch(buffer_size = tf.data.AUTOTUNE)"
      ],
      "execution_count": 13,
      "outputs": []
    },
    {
      "cell_type": "markdown",
      "metadata": {
        "id": "HaieccFqFuuJ"
      },
      "source": [
        "create first model that uses embeddings and conv1D layer"
      ]
    },
    {
      "cell_type": "code",
      "metadata": {
        "id": "KrwjWgY6Fslt",
        "colab": {
          "base_uri": "https://localhost:8080/"
        },
        "outputId": "a7c33e93-d79b-4576-9d6f-8b8a3b230cf1"
      },
      "source": [
        "# create model\n",
        "inputs = tf.keras.layers.Input(shape = (1,), dtype = tf.string, name = \"input_layer\")\n",
        "x = short_description_vectorizer(inputs)\n",
        "x = short_description_embedding(x)\n",
        "x = tf.keras.layers.Conv1D(filters = 16, kernel_size = 5)(x)\n",
        "x = tf.keras.layers.GlobalAveragePooling1D()(x)\n",
        "outputs = tf.keras.layers.Dense(len(class_names), activation = \"softmax\", name = \"output_layer\")(x)\n",
        "\n",
        "model_descriptions_conv1D = tf.keras.Model(inputs, outputs)\n",
        "\n",
        "# compile model\n",
        "model_descriptions_conv1D.compile(optimizer = tf.keras.optimizers.Adam(learning_rate = 0.001),\n",
        "                                  loss = tf.keras.losses.categorical_crossentropy,\n",
        "                                  metrics = [\"accuracy\"])\n",
        "\n",
        "# check model summary\n",
        "model_descriptions_conv1D.summary()"
      ],
      "execution_count": 14,
      "outputs": [
        {
          "output_type": "stream",
          "name": "stdout",
          "text": [
            "Model: \"model\"\n",
            "_________________________________________________________________\n",
            "Layer (type)                 Output Shape              Param #   \n",
            "=================================================================\n",
            "input_layer (InputLayer)     [(None, 1)]               0         \n",
            "_________________________________________________________________\n",
            "text_vectorization (TextVect (None, 57)                0         \n",
            "_________________________________________________________________\n",
            "embedding (Embedding)        (None, 57, 128)           128000    \n",
            "_________________________________________________________________\n",
            "conv1d (Conv1D)              (None, 53, 16)            10256     \n",
            "_________________________________________________________________\n",
            "global_average_pooling1d (Gl (None, 16)                0         \n",
            "_________________________________________________________________\n",
            "output_layer (Dense)         (None, 41)                697       \n",
            "=================================================================\n",
            "Total params: 138,953\n",
            "Trainable params: 138,953\n",
            "Non-trainable params: 0\n",
            "_________________________________________________________________\n"
          ]
        }
      ]
    },
    {
      "cell_type": "code",
      "metadata": {
        "id": "PW7aJQ9WII3I",
        "colab": {
          "base_uri": "https://localhost:8080/"
        },
        "outputId": "a0c69902-8968-4452-8368-95a215731bed"
      },
      "source": [
        "# fit model\n",
        "history_descriptions_conv1D = model_descriptions_conv1D.fit(train_dataset,\n",
        "                                                            epochs = 5,\n",
        "                                                            steps_per_epoch = int(0.1 * len(train_dataset)), # use 10% of train data for experimentation\n",
        "                                                            validation_data = test_dataset,\n",
        "                                                            validation_steps = int(0.2*len(test_dataset)) # use 20% of test data for validation\n",
        "                                                            )"
      ],
      "execution_count": 15,
      "outputs": [
        {
          "output_type": "stream",
          "name": "stdout",
          "text": [
            "Epoch 1/5\n",
            "502/502 [==============================] - 35s 10ms/step - loss: 3.2384 - accuracy: 0.1899 - val_loss: 3.1161 - val_accuracy: 0.2058\n",
            "Epoch 2/5\n",
            "502/502 [==============================] - 5s 10ms/step - loss: 3.0678 - accuracy: 0.2209 - val_loss: 3.0032 - val_accuracy: 0.2322\n",
            "Epoch 3/5\n",
            "502/502 [==============================] - 5s 9ms/step - loss: 2.9822 - accuracy: 0.2451 - val_loss: 2.9126 - val_accuracy: 0.2646\n",
            "Epoch 4/5\n",
            "502/502 [==============================] - 5s 10ms/step - loss: 2.9199 - accuracy: 0.2679 - val_loss: 2.8470 - val_accuracy: 0.2856\n",
            "Epoch 5/5\n",
            "502/502 [==============================] - 5s 9ms/step - loss: 2.8467 - accuracy: 0.2900 - val_loss: 2.8007 - val_accuracy: 0.2988\n"
          ]
        }
      ]
    },
    {
      "cell_type": "code",
      "metadata": {
        "id": "LE2eIurtf7ri",
        "colab": {
          "base_uri": "https://localhost:8080/"
        },
        "outputId": "af8669c0-3961-43d8-bfc8-54745fbdc507"
      },
      "source": [
        "# evaluate model using test data\n",
        "descriptions_Conv1D_results = model_descriptions_conv1D.evaluate(test_dataset)"
      ],
      "execution_count": 16,
      "outputs": [
        {
          "output_type": "stream",
          "name": "stdout",
          "text": [
            "1256/1256 [==============================] - 6s 5ms/step - loss: 2.8139 - accuracy: 0.2988\n"
          ]
        }
      ]
    },
    {
      "cell_type": "markdown",
      "metadata": {
        "id": "GiVHMd1COWB3"
      },
      "source": [
        "create model using LSTM layer"
      ]
    },
    {
      "cell_type": "code",
      "metadata": {
        "id": "4ni26weHXvay"
      },
      "source": [
        "# recreate embedding layer so it doesn't use weights that it got from training on conv1D model\n",
        "short_description_embedding = tf.keras.layers.Embedding(input_dim = vocab_size,\n",
        "                                            output_dim = 128,\n",
        "                                            input_length = description_max_length\n",
        "                                            )"
      ],
      "execution_count": 17,
      "outputs": []
    },
    {
      "cell_type": "code",
      "metadata": {
        "id": "gQfAKoCKfpSw",
        "colab": {
          "base_uri": "https://localhost:8080/"
        },
        "outputId": "137668a0-e146-4762-9690-f2c85923fc29"
      },
      "source": [
        "# create model\n",
        "inputs = tf.keras.layers.Input(shape = (1,), dtype = tf.string, name = \"input_layer\")\n",
        "x = short_description_vectorizer(inputs)\n",
        "x = short_description_embedding(x)\n",
        "x = tf.keras.layers.LSTM(128)(x)\n",
        "outputs = tf.keras.layers.Dense(len(class_names), activation = \"softmax\", name = \"output_layer\")(x)\n",
        "\n",
        "model_descriptions_LSTM = tf.keras.Model(inputs, outputs)\n",
        "\n",
        "# compile model\n",
        "model_descriptions_LSTM.compile(optimizer = tf.keras.optimizers.Adam(learning_rate = 0.001),\n",
        "                                  loss = tf.keras.losses.categorical_crossentropy,\n",
        "                                  metrics = [\"accuracy\"])\n",
        "\n",
        "# check model summary\n",
        "model_descriptions_LSTM.summary()"
      ],
      "execution_count": 18,
      "outputs": [
        {
          "output_type": "stream",
          "name": "stdout",
          "text": [
            "Model: \"model_1\"\n",
            "_________________________________________________________________\n",
            "Layer (type)                 Output Shape              Param #   \n",
            "=================================================================\n",
            "input_layer (InputLayer)     [(None, 1)]               0         \n",
            "_________________________________________________________________\n",
            "text_vectorization (TextVect (None, 57)                0         \n",
            "_________________________________________________________________\n",
            "embedding_1 (Embedding)      (None, 57, 128)           128000    \n",
            "_________________________________________________________________\n",
            "lstm (LSTM)                  (None, 128)               131584    \n",
            "_________________________________________________________________\n",
            "output_layer (Dense)         (None, 41)                5289      \n",
            "=================================================================\n",
            "Total params: 264,873\n",
            "Trainable params: 264,873\n",
            "Non-trainable params: 0\n",
            "_________________________________________________________________\n"
          ]
        }
      ]
    },
    {
      "cell_type": "code",
      "metadata": {
        "id": "FTJj87TCggx8",
        "colab": {
          "base_uri": "https://localhost:8080/"
        },
        "outputId": "dc597d16-8f4b-4f37-8aa3-66168f81f0c3"
      },
      "source": [
        "history_descriptions_LSTM = model_descriptions_LSTM.fit(train_dataset,\n",
        "                                                        epochs = 5,\n",
        "                                                        steps_per_epoch = int(0.1 * len(train_dataset)), # use 10% of train data for experimentation\n",
        "                                                        validation_data = test_dataset,\n",
        "                                                        validation_steps = int(0.2*len(test_dataset)) # use 20% of test data for validation\n",
        "                                                        )"
      ],
      "execution_count": 19,
      "outputs": [
        {
          "output_type": "stream",
          "name": "stdout",
          "text": [
            "Epoch 1/5\n",
            "502/502 [==============================] - 16s 26ms/step - loss: 3.2659 - accuracy: 0.1764 - val_loss: 3.1800 - val_accuracy: 0.1981\n",
            "Epoch 2/5\n",
            "502/502 [==============================] - 13s 25ms/step - loss: 3.1094 - accuracy: 0.2150 - val_loss: 3.0722 - val_accuracy: 0.2114\n",
            "Epoch 3/5\n",
            "502/502 [==============================] - 13s 25ms/step - loss: 3.0494 - accuracy: 0.2110 - val_loss: 3.0394 - val_accuracy: 0.2199\n",
            "Epoch 4/5\n",
            "502/502 [==============================] - 13s 26ms/step - loss: 3.0265 - accuracy: 0.2159 - val_loss: 2.9809 - val_accuracy: 0.2280\n",
            "Epoch 5/5\n",
            "502/502 [==============================] - 13s 26ms/step - loss: 2.9919 - accuracy: 0.2234 - val_loss: 2.9493 - val_accuracy: 0.2258\n"
          ]
        }
      ]
    },
    {
      "cell_type": "code",
      "metadata": {
        "id": "4VGhhjNgg7Nc",
        "colab": {
          "base_uri": "https://localhost:8080/"
        },
        "outputId": "03186480-c22b-43c8-f979-c7ab956a9235"
      },
      "source": [
        "# evaluate lstm model using test data\n",
        "descriptions_LSTM_results = model_descriptions_LSTM.evaluate(test_dataset)"
      ],
      "execution_count": 20,
      "outputs": [
        {
          "output_type": "stream",
          "name": "stdout",
          "text": [
            "1256/1256 [==============================] - 11s 9ms/step - loss: 2.9680 - accuracy: 0.2219\n"
          ]
        }
      ]
    },
    {
      "cell_type": "markdown",
      "metadata": {
        "id": "MKoNsrCPm60R"
      },
      "source": [
        "# News classification based on headline\n",
        "\n",
        "Let's build a model that classifies news by category based on only headline"
      ]
    },
    {
      "cell_type": "code",
      "metadata": {
        "id": "ZAt7xWEnmzc1"
      },
      "source": [
        "# get features and labels from dataframe\n",
        "\n",
        "X = df[\"headline\"].values\n",
        "y = df[\"category\"].values "
      ],
      "execution_count": 21,
      "outputs": []
    },
    {
      "cell_type": "code",
      "metadata": {
        "id": "mpkN3M4ZnoFc",
        "colab": {
          "base_uri": "https://localhost:8080/"
        },
        "outputId": "a3c99184-5999-4a99-f23b-8cdc18784e75"
      },
      "source": [
        "# split our data into train(80%) and test(20%) subsets\n",
        "from sklearn.model_selection import train_test_split\n",
        "\n",
        "X_train, X_test, y_train, y_test = train_test_split(X, y, test_size = 0.2, random_state = 42)\n",
        "\n",
        "len(X_train), len(y_train), len(X_test), len(y_test)"
      ],
      "execution_count": 22,
      "outputs": [
        {
          "output_type": "execute_result",
          "data": {
            "text/plain": [
              "(160682, 160682, 40171, 40171)"
            ]
          },
          "metadata": {},
          "execution_count": 22
        }
      ]
    },
    {
      "cell_type": "code",
      "metadata": {
        "id": "1PzoaOKrnoeO"
      },
      "source": [
        "# use one-hot-encoding to turn string labels into numbers\n",
        "from sklearn.preprocessing import OneHotEncoder\n",
        "import numpy as np\n",
        "\n",
        "enc = OneHotEncoder(sparse = False)\n",
        "enc.fit(np.expand_dims(y_train, 1))\n",
        "\n",
        "y_train_one_hot = enc.transform(np.expand_dims(y_train, 1))\n",
        "y_test_one_hot = enc.transform(np.expand_dims(y_test, 1))"
      ],
      "execution_count": 23,
      "outputs": []
    },
    {
      "cell_type": "code",
      "metadata": {
        "id": "E8pb3mzbn4kR",
        "colab": {
          "base_uri": "https://localhost:8080/",
          "height": 351
        },
        "outputId": "549e9170-7654-4d88-af1a-fecf484142c4"
      },
      "source": [
        "# check distribution of number of words in headlines\n",
        "\n",
        "n_words = []\n",
        "\n",
        "for description in X_train:\n",
        "  n_words.append(len(description.split()))\n",
        "\n",
        "n_words = np.sort(n_words)\n",
        "plt.figure(figsize = (10,5))\n",
        "plt.hist(n_words, bins = 32)\n",
        "plt.xlabel(\"number of words in headlines\")\n",
        "plt.ylabel(\"number of headlines\")\n",
        "plt.show()\n",
        "\n",
        "headline_max_length = int(np.percentile(n_words, 99))\n",
        "print(f\"99% of the headlines are shorter than {headline_max_length} words\")"
      ],
      "execution_count": 24,
      "outputs": [
        {
          "output_type": "display_data",
          "data": {
            "image/png": "[encoded data removed]",
            "text/plain": [
              "<Figure size 720x360 with 1 Axes>"
            ]
          },
          "metadata": {
            "needs_background": "light"
          }
        },
        {
          "output_type": "stream",
          "name": "stdout",
          "text": [
            "99% of the headlines are shorter than 17 words\n"
          ]
        }
      ]
    },
    {
      "cell_type": "code",
      "metadata": {
        "id": "CoDE-BBXoLGC"
      },
      "source": [
        "# use tf.keras.layers.TextVectorization to turn sentences into sequence of numbers\n",
        "import tensorflow as tf\n",
        "\n",
        "vocab_size = 1000\n",
        "\n",
        "headline_vectorizer = tf.keras.layers.TextVectorization(max_tokens = vocab_size, \n",
        "                                                        output_sequence_length = headline_max_length)\n",
        "headline_vectorizer.adapt(X_train)"
      ],
      "execution_count": 25,
      "outputs": []
    },
    {
      "cell_type": "code",
      "metadata": {
        "id": "HQaPVS0JpGiM"
      },
      "source": [
        "# use embedding layer that turns words into fixed sized vectors to capture their meaning while training\n",
        "\n",
        "headline_embedding = tf.keras.layers.Embedding(input_dim = vocab_size,\n",
        "                                            output_dim = 128,\n",
        "                                            input_length = headline_max_length\n",
        "                                            )"
      ],
      "execution_count": 26,
      "outputs": []
    },
    {
      "cell_type": "code",
      "metadata": {
        "id": "0DHj7GKNpTYo"
      },
      "source": [
        "# prepare datasets\n",
        "train_values = tf.data.Dataset.from_tensor_slices(X_train)\n",
        "train_labels = tf.data.Dataset.from_tensor_slices(y_train_one_hot)\n",
        "train_dataset = tf.data.Dataset.zip((train_values, train_labels))\n",
        "\n",
        "# batch and prefetch to optimize performance\n",
        "train_dataset = train_dataset.batch(32).prefetch(buffer_size = tf.data.AUTOTUNE)\n",
        "\n",
        "# do same for test data\n",
        "test_values = tf.data.Dataset.from_tensor_slices(X_test)\n",
        "test_labels = tf.data.Dataset.from_tensor_slices(y_test_one_hot)\n",
        "test_dataset = tf.data.Dataset.zip((test_values, test_labels))\n",
        "\n",
        "test_dataset = test_dataset.batch(32).prefetch(buffer_size = tf.data.AUTOTUNE)"
      ],
      "execution_count": 27,
      "outputs": []
    },
    {
      "cell_type": "markdown",
      "metadata": {
        "id": "XOXTEGmfpdQf"
      },
      "source": [
        "Create model using Conv1D layer"
      ]
    },
    {
      "cell_type": "code",
      "metadata": {
        "id": "Mwp8zwhCpZP5",
        "colab": {
          "base_uri": "https://localhost:8080/"
        },
        "outputId": "1a5c6c73-3adc-4240-97bc-96a071a93a2c"
      },
      "source": [
        "# create model\n",
        "inputs = tf.keras.layers.Input(shape = (1,), dtype = tf.string, name = \"input_layer\")\n",
        "x = headline_vectorizer(inputs)\n",
        "x = headline_embedding(x)\n",
        "x = tf.keras.layers.Conv1D(filters = 16, kernel_size = 5)(x)\n",
        "x = tf.keras.layers.GlobalAveragePooling1D()(x)\n",
        "outputs = tf.keras.layers.Dense(len(class_names), activation = \"softmax\", name = \"output_layer\")(x)\n",
        "\n",
        "model_headlines_conv1D = tf.keras.Model(inputs, outputs)\n",
        "\n",
        "# compile model\n",
        "model_headlines_conv1D.compile(optimizer = tf.keras.optimizers.Adam(learning_rate = 0.001),\n",
        "                                  loss = tf.keras.losses.categorical_crossentropy,\n",
        "                                  metrics = [\"accuracy\"])\n",
        "\n",
        "# check model summary\n",
        "model_headlines_conv1D.summary()"
      ],
      "execution_count": 28,
      "outputs": [
        {
          "output_type": "stream",
          "name": "stdout",
          "text": [
            "Model: \"model_2\"\n",
            "_________________________________________________________________\n",
            "Layer (type)                 Output Shape              Param #   \n",
            "=================================================================\n",
            "input_layer (InputLayer)     [(None, 1)]               0         \n",
            "_________________________________________________________________\n",
            "text_vectorization_1 (TextVe (None, 17)                0         \n",
            "_________________________________________________________________\n",
            "embedding_2 (Embedding)      (None, 17, 128)           128000    \n",
            "_________________________________________________________________\n",
            "conv1d_1 (Conv1D)            (None, 13, 16)            10256     \n",
            "_________________________________________________________________\n",
            "global_average_pooling1d_1 ( (None, 16)                0         \n",
            "_________________________________________________________________\n",
            "output_layer (Dense)         (None, 41)                697       \n",
            "=================================================================\n",
            "Total params: 138,953\n",
            "Trainable params: 138,953\n",
            "Non-trainable params: 0\n",
            "_________________________________________________________________\n"
          ]
        }
      ]
    },
    {
      "cell_type": "code",
      "metadata": {
        "id": "it-vWT4tpzuu",
        "colab": {
          "base_uri": "https://localhost:8080/"
        },
        "outputId": "f9de9823-db6f-4944-c385-ebcb5d37f0ab"
      },
      "source": [
        "# fit model\n",
        "history_headlines_conv1D = model_headlines_conv1D.fit(train_dataset,\n",
        "                                                      epochs = 5,\n",
        "                                                      steps_per_epoch = int(0.1 * len(train_dataset)), # use 10% of train data for experimentation\n",
        "                                                      validation_data = test_dataset,\n",
        "                                                      validation_steps = int(0.2*len(test_dataset)) # use 20% of test data for validation\n",
        "                                                      )"
      ],
      "execution_count": 29,
      "outputs": [
        {
          "output_type": "stream",
          "name": "stdout",
          "text": [
            "Epoch 1/5\n",
            "502/502 [==============================] - 6s 10ms/step - loss: 3.1741 - accuracy: 0.2009 - val_loss: 2.9467 - val_accuracy: 0.2560\n",
            "Epoch 2/5\n",
            "502/502 [==============================] - 5s 9ms/step - loss: 2.8139 - accuracy: 0.2875 - val_loss: 2.7058 - val_accuracy: 0.3165\n",
            "Epoch 3/5\n",
            "502/502 [==============================] - 5s 9ms/step - loss: 2.6543 - accuracy: 0.3275 - val_loss: 2.5760 - val_accuracy: 0.3456\n",
            "Epoch 4/5\n",
            "502/502 [==============================] - 5s 9ms/step - loss: 2.5392 - accuracy: 0.3633 - val_loss: 2.4732 - val_accuracy: 0.3733\n",
            "Epoch 5/5\n",
            "502/502 [==============================] - 5s 9ms/step - loss: 2.4350 - accuracy: 0.3809 - val_loss: 2.4134 - val_accuracy: 0.3902\n"
          ]
        }
      ]
    },
    {
      "cell_type": "code",
      "metadata": {
        "id": "ssWEt7qtr4YS",
        "colab": {
          "base_uri": "https://localhost:8080/"
        },
        "outputId": "735c233d-7c11-466f-e226-c2c736f99767"
      },
      "source": [
        "# evaluate model on test data\n",
        "headlines_conv1D_results = model_headlines_conv1D.evaluate(test_dataset)"
      ],
      "execution_count": 30,
      "outputs": [
        {
          "output_type": "stream",
          "name": "stdout",
          "text": [
            "1256/1256 [==============================] - 5s 4ms/step - loss: 2.4153 - accuracy: 0.3877\n"
          ]
        }
      ]
    },
    {
      "cell_type": "markdown",
      "metadata": {
        "id": "kFxSvHerqBTN"
      },
      "source": [
        "Create model using LSTM layer"
      ]
    },
    {
      "cell_type": "code",
      "metadata": {
        "id": "IHqCcLWbYVT0"
      },
      "source": [
        "# recreate embedding layer\n",
        "headline_embedding = tf.keras.layers.Embedding(input_dim = vocab_size,\n",
        "                                            output_dim = 128,\n",
        "                                            input_length = headline_max_length\n",
        "                                            )"
      ],
      "execution_count": 31,
      "outputs": []
    },
    {
      "cell_type": "code",
      "metadata": {
        "id": "ohmJvjTmqzTw",
        "colab": {
          "base_uri": "https://localhost:8080/"
        },
        "outputId": "7cb065a7-d5da-4b36-c414-4021f00fe0dc"
      },
      "source": [
        "# create model\n",
        "inputs = tf.keras.layers.Input(shape = (1,), dtype = tf.string, name = \"input_layer\")\n",
        "x = headline_vectorizer(inputs)\n",
        "x = headline_embedding(x)\n",
        "x = tf.keras.layers.LSTM(64)(x)\n",
        "outputs = tf.keras.layers.Dense(len(class_names), activation = \"softmax\", name = \"output_layer\")(x)\n",
        "\n",
        "model_headlines_LSTM = tf.keras.Model(inputs, outputs)\n",
        "\n",
        "# compile model\n",
        "model_headlines_LSTM.compile(optimizer = tf.keras.optimizers.Adam(learning_rate = 0.001),\n",
        "                                  loss = tf.keras.losses.categorical_crossentropy,\n",
        "                                  metrics = [\"accuracy\"])\n",
        "\n",
        "# check model summary\n",
        "model_headlines_LSTM.summary()"
      ],
      "execution_count": 32,
      "outputs": [
        {
          "output_type": "stream",
          "name": "stdout",
          "text": [
            "Model: \"model_3\"\n",
            "_________________________________________________________________\n",
            "Layer (type)                 Output Shape              Param #   \n",
            "=================================================================\n",
            "input_layer (InputLayer)     [(None, 1)]               0         \n",
            "_________________________________________________________________\n",
            "text_vectorization_1 (TextVe (None, 17)                0         \n",
            "_________________________________________________________________\n",
            "embedding_3 (Embedding)      (None, 17, 128)           128000    \n",
            "_________________________________________________________________\n",
            "lstm_1 (LSTM)                (None, 64)                49408     \n",
            "_________________________________________________________________\n",
            "output_layer (Dense)         (None, 41)                2665      \n",
            "=================================================================\n",
            "Total params: 180,073\n",
            "Trainable params: 180,073\n",
            "Non-trainable params: 0\n",
            "_________________________________________________________________\n"
          ]
        }
      ]
    },
    {
      "cell_type": "code",
      "metadata": {
        "id": "IS_ResfUq84g",
        "colab": {
          "base_uri": "https://localhost:8080/"
        },
        "outputId": "dbb5feaa-fc22-47a5-d532-d41925a57f7d"
      },
      "source": [
        "# fit model\n",
        "history_headlines_LSTM = model_headlines_LSTM.fit(train_dataset,\n",
        "                                                  epochs = 5,\n",
        "                                                  steps_per_epoch = int(0.1 * len(train_dataset)), # use 10% of train data for experimentation\n",
        "                                                  validation_data = test_dataset,\n",
        "                                                  validation_steps = int(0.2*len(test_dataset)) # use 20% of test data for validation\n",
        "                                                  )"
      ],
      "execution_count": 33,
      "outputs": [
        {
          "output_type": "stream",
          "name": "stdout",
          "text": [
            "Epoch 1/5\n",
            "502/502 [==============================] - 9s 14ms/step - loss: 3.1436 - accuracy: 0.1990 - val_loss: 2.8669 - val_accuracy: 0.2723\n",
            "Epoch 2/5\n",
            "502/502 [==============================] - 7s 13ms/step - loss: 2.7571 - accuracy: 0.3004 - val_loss: 2.6543 - val_accuracy: 0.3238\n",
            "Epoch 3/5\n",
            "502/502 [==============================] - 7s 13ms/step - loss: 2.6024 - accuracy: 0.3322 - val_loss: 2.5208 - val_accuracy: 0.3506\n",
            "Epoch 4/5\n",
            "502/502 [==============================] - 7s 13ms/step - loss: 2.4836 - accuracy: 0.3710 - val_loss: 2.4303 - val_accuracy: 0.3775\n",
            "Epoch 5/5\n",
            "502/502 [==============================] - 7s 13ms/step - loss: 2.3943 - accuracy: 0.3897 - val_loss: 2.3669 - val_accuracy: 0.3891\n"
          ]
        }
      ]
    },
    {
      "cell_type": "code",
      "metadata": {
        "id": "M7E8bF52rPj6",
        "colab": {
          "base_uri": "https://localhost:8080/"
        },
        "outputId": "c847b5e4-b9ff-496f-fe36-277aaa50755f"
      },
      "source": [
        "headlines_LSTM_results = model_headlines_LSTM.evaluate(test_dataset)"
      ],
      "execution_count": 34,
      "outputs": [
        {
          "output_type": "stream",
          "name": "stdout",
          "text": [
            "1256/1256 [==============================] - 7s 6ms/step - loss: 2.3731 - accuracy: 0.3900\n"
          ]
        }
      ]
    },
    {
      "cell_type": "markdown",
      "metadata": {
        "id": "DYu623kGsDnA"
      },
      "source": [
        "# News classification based on both headline and short description\n",
        "\n",
        "Now let's build a multi-input classifier that predicts news category based on both headline and short description"
      ]
    },
    {
      "cell_type": "code",
      "metadata": {
        "id": "nOX-l72ZyHM8",
        "colab": {
          "base_uri": "https://localhost:8080/"
        },
        "outputId": "9740ebfd-350c-4f4b-9633-faa99c68c8a6"
      },
      "source": [
        "# get data and labels from pandas dataframe\n",
        "X_headlines = df[\"headline\"].values\n",
        "X_descriptions = df[\"short_description\"].values\n",
        "y = df[\"category\"].values\n",
        "\n",
        "# seperate data into train and test subsets\n",
        "split_index = int(0.8*len(X_headlines))\n",
        "\n",
        "X_headlines_train = X_headlines[:split_index]\n",
        "X_descriptions_train = X_descriptions[:split_index]\n",
        "y_train = y[:split_index]\n",
        "\n",
        "X_headlines_test = X_headlines[split_index:]\n",
        "X_descriptions_test = X_descriptions[split_index:]\n",
        "y_test = y[split_index:]\n",
        "\n",
        "len(X_headlines_train), len(X_descriptions_train), len(y_train), len(X_headlines_test), len(X_descriptions_test), len(y_test)"
      ],
      "execution_count": 35,
      "outputs": [
        {
          "output_type": "execute_result",
          "data": {
            "text/plain": [
              "(160682, 160682, 160682, 40171, 40171, 40171)"
            ]
          },
          "metadata": {},
          "execution_count": 35
        }
      ]
    },
    {
      "cell_type": "code",
      "metadata": {
        "id": "udHs-u-P8lvF"
      },
      "source": [
        "# use one-hot-encoding to turn string labels into numbers\n",
        "from sklearn.preprocessing import OneHotEncoder\n",
        "import numpy as np\n",
        "\n",
        "enc = OneHotEncoder(sparse = False)\n",
        "enc.fit(np.expand_dims(y_train, 1))\n",
        "\n",
        "y_train_one_hot = enc.transform(np.expand_dims(y_train, 1))\n",
        "y_test_one_hot = enc.transform(np.expand_dims(y_test, 1))"
      ],
      "execution_count": 36,
      "outputs": []
    },
    {
      "cell_type": "code",
      "metadata": {
        "id": "TFsRbRLV3CUh"
      },
      "source": [
        "# prepare datasets\n",
        "train_values = tf.data.Dataset.from_tensor_slices((X_headlines_train, X_descriptions_train))\n",
        "train_labels = tf.data.Dataset.from_tensor_slices(y_train_one_hot)\n",
        "train_dataset = tf.data.Dataset.zip((train_values, train_labels))\n",
        "\n",
        "# batch and prefetch to optimize performance\n",
        "train_dataset = train_dataset.batch(32).prefetch(buffer_size = tf.data.AUTOTUNE)\n",
        "\n",
        "# do same for test data\n",
        "test_values = tf.data.Dataset.from_tensor_slices((X_headlines_test, X_descriptions_test))\n",
        "test_labels = tf.data.Dataset.from_tensor_slices(y_test_one_hot)\n",
        "test_dataset = tf.data.Dataset.zip((test_values, test_labels))\n",
        "\n",
        "test_dataset = test_dataset.batch(32).prefetch(buffer_size = tf.data.AUTOTUNE)"
      ],
      "execution_count": 37,
      "outputs": []
    },
    {
      "cell_type": "code",
      "metadata": {
        "id": "XMUMPen-8-JS",
        "colab": {
          "base_uri": "https://localhost:8080/"
        },
        "outputId": "87a2beda-6a11-469a-dd40-94a8c735fceb"
      },
      "source": [
        "# short description model\n",
        "short_description_inputs = tf.keras.layers.Input(shape = (1,), dtype = tf.string, name = \"short_description_input\")\n",
        "x = short_description_vectorizer(short_description_inputs)\n",
        "x = tf.keras.layers.Embedding(input_dim = vocab_size,\n",
        "                              output_dim = 128,\n",
        "                              input_length = description_max_length\n",
        "                              )(x)\n",
        "x = tf.keras.layers.Conv1D(filters = 16, kernel_size = 5)(x)\n",
        "x = tf.keras.layers.GlobalAveragePooling1D()(x)\n",
        "short_description_outputs = tf.keras.layers.Dense(100, activation = \"relu\", name = \"short_description_model_output\")(x)\n",
        "\n",
        "# headlines model\n",
        "headline_inputs = tf.keras.layers.Input(shape = (1,), dtype = tf.string, name = \"headlines_input\")\n",
        "x = headline_vectorizer(headline_inputs)\n",
        "x = tf.keras.layers.Embedding(input_dim = vocab_size,\n",
        "                            output_dim = 128,\n",
        "                            input_length = headline_max_length\n",
        "                            )(x)\n",
        "x = tf.keras.layers.LSTM(64)(x)\n",
        "headline_outputs = tf.keras.layers.Dense(50, activation = \"relu\", name = \"headline_model_output\")(x)\n",
        "\n",
        "# concatenate short description and headline outputs\n",
        "x = tf.keras.layers.Concatenate()([short_description_outputs, headline_outputs])\n",
        "\n",
        "# add dropout layer to avoid overfitting\n",
        "x = tf.keras.layers.Dropout(0.5)(x)\n",
        "\n",
        "# output layer\n",
        "outputs = tf.keras.layers.Dense(len(class_names), activation = \"softmax\", name = \"output_layer\")(x)\n",
        "\n",
        "\n",
        "\n",
        "# create hybrid model\n",
        "hybrid_model = tf.keras.Model(inputs = [headline_inputs, short_description_inputs], outputs = outputs)\n",
        "\n",
        "# compile model\n",
        "hybrid_model.compile(optimizer = tf.keras.optimizers.Adam(),\n",
        "                     loss = tf.keras.losses.categorical_crossentropy,\n",
        "                     metrics = [\"accuracy\"])\n",
        "\n",
        "# check model summary\n",
        "hybrid_model.summary()"
      ],
      "execution_count": 38,
      "outputs": [
        {
          "output_type": "stream",
          "name": "stdout",
          "text": [
            "Model: \"model_4\"\n",
            "__________________________________________________________________________________________________\n",
            "Layer (type)                    Output Shape         Param #     Connected to                     \n",
            "==================================================================================================\n",
            "short_description_input (InputL [(None, 1)]          0                                            \n",
            "__________________________________________________________________________________________________\n",
            "text_vectorization (TextVectori (None, 57)           0           short_description_input[0][0]    \n",
            "__________________________________________________________________________________________________\n",
            "headlines_input (InputLayer)    [(None, 1)]          0                                            \n",
            "__________________________________________________________________________________________________\n",
            "embedding_4 (Embedding)         (None, 57, 128)      128000      text_vectorization[2][0]         \n",
            "__________________________________________________________________________________________________\n",
            "text_vectorization_1 (TextVecto (None, 17)           0           headlines_input[0][0]            \n",
            "__________________________________________________________________________________________________\n",
            "conv1d_2 (Conv1D)               (None, 53, 16)       10256       embedding_4[0][0]                \n",
            "__________________________________________________________________________________________________\n",
            "embedding_5 (Embedding)         (None, 17, 128)      128000      text_vectorization_1[2][0]       \n",
            "__________________________________________________________________________________________________\n",
            "global_average_pooling1d_2 (Glo (None, 16)           0           conv1d_2[0][0]                   \n",
            "__________________________________________________________________________________________________\n",
            "lstm_2 (LSTM)                   (None, 64)           49408       embedding_5[0][0]                \n",
            "__________________________________________________________________________________________________\n",
            "short_description_model_output  (None, 100)          1700        global_average_pooling1d_2[0][0] \n",
            "__________________________________________________________________________________________________\n",
            "headline_model_output (Dense)   (None, 50)           3250        lstm_2[0][0]                     \n",
            "__________________________________________________________________________________________________\n",
            "concatenate (Concatenate)       (None, 150)          0           short_description_model_output[0]\n",
            "                                                                 headline_model_output[0][0]      \n",
            "__________________________________________________________________________________________________\n",
            "dropout (Dropout)               (None, 150)          0           concatenate[0][0]                \n",
            "__________________________________________________________________________________________________\n",
            "output_layer (Dense)            (None, 41)           6191        dropout[0][0]                    \n",
            "==================================================================================================\n",
            "Total params: 326,805\n",
            "Trainable params: 326,805\n",
            "Non-trainable params: 0\n",
            "__________________________________________________________________________________________________\n"
          ]
        }
      ]
    },
    {
      "cell_type": "code",
      "metadata": {
        "id": "7mv8X_HvIZ8r",
        "colab": {
          "base_uri": "https://localhost:8080/",
          "height": 976
        },
        "outputId": "9f6a2a6d-69ef-442b-e6b8-540a2df8f47f"
      },
      "source": [
        "# plot model\n",
        "from tensorflow.keras.utils import plot_model\n",
        "\n",
        "plot_model(hybrid_model, show_shapes = True)"
      ],
      "execution_count": 39,
      "outputs": [
        {
          "output_type": "execute_result",
          "data": {
            "image/png": "[encoded data removed]",
            "text/plain": [
              "<IPython.core.display.Image object>"
            ]
          },
          "metadata": {},
          "execution_count": 39
        }
      ]
    },
    {
      "cell_type": "code",
      "metadata": {
        "id": "tc9MQMyNI9uz",
        "colab": {
          "base_uri": "https://localhost:8080/"
        },
        "outputId": "d34d9277-6235-432b-96f4-1a28233cf135"
      },
      "source": [
        "# fit the model\n",
        "history_hybrid = hybrid_model.fit(train_dataset,\n",
        "                                  epochs = 5,\n",
        "                                  steps_per_epoch = int(0.1 * len(train_dataset)),\n",
        "                                  validation_data = test_dataset,\n",
        "                                  validation_steps = int(0.2*len(test_dataset)) # use 20% of test data for validation\n",
        "                                  )"
      ],
      "execution_count": 40,
      "outputs": [
        {
          "output_type": "stream",
          "name": "stdout",
          "text": [
            "Epoch 1/5\n",
            "502/502 [==============================] - 13s 21ms/step - loss: 3.1392 - accuracy: 0.2170 - val_loss: 2.8354 - val_accuracy: 0.2837\n",
            "Epoch 2/5\n",
            "502/502 [==============================] - 10s 20ms/step - loss: 2.7722 - accuracy: 0.3024 - val_loss: 2.6028 - val_accuracy: 0.3332\n",
            "Epoch 3/5\n",
            "502/502 [==============================] - 10s 20ms/step - loss: 2.5978 - accuracy: 0.3383 - val_loss: 2.4746 - val_accuracy: 0.3574\n",
            "Epoch 4/5\n",
            "502/502 [==============================] - 10s 19ms/step - loss: 2.5110 - accuracy: 0.3584 - val_loss: 2.4153 - val_accuracy: 0.3800\n",
            "Epoch 5/5\n",
            "502/502 [==============================] - 10s 19ms/step - loss: 2.4371 - accuracy: 0.3818 - val_loss: 2.3265 - val_accuracy: 0.4016\n"
          ]
        }
      ]
    },
    {
      "cell_type": "code",
      "metadata": {
        "id": "2zxKxYXNJTlO",
        "colab": {
          "base_uri": "https://localhost:8080/"
        },
        "outputId": "9ab7195e-46d3-4556-dcc0-ce83f6b04982"
      },
      "source": [
        "# evaluate hybrid model on test data\n",
        "hybrid_results = hybrid_model.evaluate(test_dataset)"
      ],
      "execution_count": 41,
      "outputs": [
        {
          "output_type": "stream",
          "name": "stdout",
          "text": [
            "1256/1256 [==============================] - 9s 7ms/step - loss: 2.3210 - accuracy: 0.4056\n"
          ]
        }
      ]
    },
    {
      "cell_type": "markdown",
      "metadata": {
        "id": "a19vYW2Y-Hs5"
      },
      "source": [
        "# Transfer learning using pretrained encoder\n",
        "\n",
        "model used:\n",
        "\n",
        "universal-sentence-encoder\n",
        "\n",
        "https://tfhub.dev/google/universal-sentence-encoder/4\n"
      ]
    },
    {
      "cell_type": "code",
      "metadata": {
        "id": "Dg_IAh4ecpQ3"
      },
      "source": [
        "import tensorflow_hub as hub\n",
        "\n",
        "embed_description = sentence_encoder_layer = hub.KerasLayer(\"https://tfhub.dev/google/universal-sentence-encoder/4\",\n",
        "                                                              input_shape=[],\n",
        "                                                              dtype=tf.string, \n",
        "                                                              trainable=False,)\n",
        "embed_headline = hub.KerasLayer(\"https://tfhub.dev/google/universal-sentence-encoder/4\",\n",
        "                                                              input_shape=[],\n",
        "                                                              dtype=tf.string, \n",
        "                                                              trainable=False,)"
      ],
      "execution_count": 42,
      "outputs": []
    },
    {
      "cell_type": "code",
      "metadata": {
        "colab": {
          "base_uri": "https://localhost:8080/"
        },
        "id": "cLsuqGvXANE4",
        "outputId": "2c6a1f66-59f7-4379-c05b-f5d1f04adeb7"
      },
      "source": [
        "# short description model\n",
        "short_description_inputs = tf.keras.layers.Input(shape = [], dtype = tf.string, name = \"short_description_input\")\n",
        "embed = embed_description(short_description_inputs)\n",
        "short_description_outputs = tf.keras.layers.Dense(100, activation = \"relu\", name = \"short_description_model_output\")(embed)\n",
        "\n",
        "# headlines model\n",
        "headline_inputs = tf.keras.layers.Input(shape = [], dtype = tf.string, name = \"headlines_input\")\n",
        "embed = embed_headline(headline_inputs)\n",
        "headline_outputs = tf.keras.layers.Dense(50, activation = \"relu\", name = \"headline_model_output\")(embed)\n",
        "\n",
        "# concatenate short description and headline outputs\n",
        "x = tf.keras.layers.Concatenate()([short_description_outputs, headline_outputs])\n",
        "\n",
        "# add dropout layer to avoid overfitting\n",
        "x = tf.keras.layers.Dropout(0.5)(x)\n",
        "\n",
        "# output layer\n",
        "outputs = tf.keras.layers.Dense(len(class_names), activation = \"softmax\", name = \"output_layer\")(x)\n",
        "\n",
        "\n",
        "\n",
        "# create hybrid model\n",
        "hybrid_model_use = tf.keras.Model(inputs = [headline_inputs, short_description_inputs], outputs = outputs)\n",
        "\n",
        "# compile model\n",
        "hybrid_model_use.compile(optimizer = tf.keras.optimizers.Adam(),\n",
        "                     loss = tf.keras.losses.categorical_crossentropy,\n",
        "                     metrics = [\"accuracy\"])\n",
        "\n",
        "# check model summary\n",
        "hybrid_model_use.summary()"
      ],
      "execution_count": 43,
      "outputs": [
        {
          "output_type": "stream",
          "name": "stdout",
          "text": [
            "Model: \"model_5\"\n",
            "__________________________________________________________________________________________________\n",
            "Layer (type)                    Output Shape         Param #     Connected to                     \n",
            "==================================================================================================\n",
            "short_description_input (InputL [(None,)]            0                                            \n",
            "__________________________________________________________________________________________________\n",
            "headlines_input (InputLayer)    [(None,)]            0                                            \n",
            "__________________________________________________________________________________________________\n",
            "keras_layer (KerasLayer)        (None, 512)          256797824   short_description_input[0][0]    \n",
            "__________________________________________________________________________________________________\n",
            "keras_layer_1 (KerasLayer)      (None, 512)          256797824   headlines_input[0][0]            \n",
            "__________________________________________________________________________________________________\n",
            "short_description_model_output  (None, 100)          51300       keras_layer[0][0]                \n",
            "__________________________________________________________________________________________________\n",
            "headline_model_output (Dense)   (None, 50)           25650       keras_layer_1[0][0]              \n",
            "__________________________________________________________________________________________________\n",
            "concatenate_1 (Concatenate)     (None, 150)          0           short_description_model_output[0]\n",
            "                                                                 headline_model_output[0][0]      \n",
            "__________________________________________________________________________________________________\n",
            "dropout_1 (Dropout)             (None, 150)          0           concatenate_1[0][0]              \n",
            "__________________________________________________________________________________________________\n",
            "output_layer (Dense)            (None, 41)           6191        dropout_1[0][0]                  \n",
            "==================================================================================================\n",
            "Total params: 513,678,789\n",
            "Trainable params: 83,141\n",
            "Non-trainable params: 513,595,648\n",
            "__________________________________________________________________________________________________\n"
          ]
        }
      ]
    },
    {
      "cell_type": "code",
      "metadata": {
        "colab": {
          "base_uri": "https://localhost:8080/",
          "height": 564
        },
        "id": "x911sDKMBqtx",
        "outputId": "5cfda74c-7f2c-465a-a377-a9d65418cb2c"
      },
      "source": [
        "# plot model\n",
        "\n",
        "plot_model(hybrid_model_use, show_shapes = False)"
      ],
      "execution_count": 44,
      "outputs": [
        {
          "output_type": "execute_result",
          "data": {
            "image/png": "[encoded data removed]",
            "text/plain": [
              "<IPython.core.display.Image object>"
            ]
          },
          "metadata": {},
          "execution_count": 44
        }
      ]
    },
    {
      "cell_type": "code",
      "metadata": {
        "colab": {
          "base_uri": "https://localhost:8080/"
        },
        "id": "SqHLw0WTDPpv",
        "outputId": "7d30cbfc-5493-479b-a46e-3d6250cf4052"
      },
      "source": [
        "# fit the model\n",
        "history_hybrid_use = hybrid_model_use.fit(train_dataset,\n",
        "                                          epochs = 5,\n",
        "                                          steps_per_epoch = int(0.1*len(train_dataset)),\n",
        "                                          validation_data = test_dataset,\n",
        "                                          validation_steps = int(0.2*len(test_dataset)), # use 20% of test data for validation\n",
        "                                          )"
      ],
      "execution_count": 45,
      "outputs": [
        {
          "output_type": "stream",
          "name": "stdout",
          "text": [
            "Epoch 1/5\n",
            "502/502 [==============================] - 26s 41ms/step - loss: 2.7035 - accuracy: 0.3447 - val_loss: 2.1153 - val_accuracy: 0.4656\n",
            "Epoch 2/5\n",
            "502/502 [==============================] - 20s 39ms/step - loss: 2.0400 - accuracy: 0.4760 - val_loss: 1.7551 - val_accuracy: 0.5336\n",
            "Epoch 3/5\n",
            "502/502 [==============================] - 20s 39ms/step - loss: 1.8381 - accuracy: 0.5118 - val_loss: 1.6071 - val_accuracy: 0.5598\n",
            "Epoch 4/5\n",
            "502/502 [==============================] - 20s 39ms/step - loss: 1.7286 - accuracy: 0.5333 - val_loss: 1.5163 - val_accuracy: 0.5763\n",
            "Epoch 5/5\n",
            "502/502 [==============================] - 20s 41ms/step - loss: 1.6766 - accuracy: 0.5441 - val_loss: 1.4630 - val_accuracy: 0.5905\n"
          ]
        }
      ]
    },
    {
      "cell_type": "code",
      "metadata": {
        "id": "4iIhQo7-bBFV",
        "colab": {
          "base_uri": "https://localhost:8080/"
        },
        "outputId": "02d953d2-f00f-49c2-9f76-a2c584419080"
      },
      "source": [
        "# evaluate model\n",
        "\n",
        "hybrid_use_results = hybrid_model_use.evaluate(test_dataset)"
      ],
      "execution_count": 46,
      "outputs": [
        {
          "output_type": "stream",
          "name": "stdout",
          "text": [
            "1256/1256 [==============================] - 35s 28ms/step - loss: 1.4748 - accuracy: 0.5874\n"
          ]
        }
      ]
    },
    {
      "cell_type": "code",
      "metadata": {
        "colab": {
          "base_uri": "https://localhost:8080/",
          "height": 408
        },
        "id": "C61ag2P0-5Lo",
        "outputId": "0fe3b3ba-cdc0-4e3a-8cd6-84430fed03c4"
      },
      "source": [
        "# compare model results using bar plots\n",
        "plt.figure(figsize = (15,5))\n",
        "\n",
        "plt.subplot(1,2,1)\n",
        "plt.bar(range(6),\n",
        "        [descriptions_Conv1D_results[0],\n",
        "         descriptions_LSTM_results[0],\n",
        "         headlines_conv1D_results[0],\n",
        "         headlines_LSTM_results[0],\n",
        "         hybrid_results[0],\n",
        "         hybrid_use_results[0]],\n",
        "        tick_label = [\"descriptions_Conv1D\",\n",
        "                      \"descriptions_LSTM\",\n",
        "                      \"headlines_Conv1D\",\n",
        "                      \"headlines_LSTM\",\n",
        "                      \"hybrid_custom\",\n",
        "                      \"hybrid_use\"]\n",
        "        )\n",
        "plt.title(\"loss\")\n",
        "plt.xticks(rotation = 45)\n",
        "\n",
        "plt.subplot(1,2,2)\n",
        "\n",
        "plt.bar(range(6),\n",
        "        [descriptions_Conv1D_results[1],\n",
        "         descriptions_LSTM_results[1],\n",
        "         headlines_conv1D_results[1],\n",
        "         headlines_LSTM_results[1],\n",
        "         hybrid_results[1],\n",
        "         hybrid_use_results[1]],\n",
        "        tick_label = [\"descriptions_Conv1D\",\n",
        "                      \"descriptions_LSTM\",\n",
        "                      \"headlines_Conv1D\",\n",
        "                      \"headlines_LSTM\",\n",
        "                      \"hybrid_custom\",\n",
        "                      \"hybrid_use\"]\n",
        "        )\n",
        "plt.title(\"accuracy\")\n",
        "plt.xticks(rotation = 45)\n",
        "\n",
        "plt.show()"
      ],
      "execution_count": 47,
      "outputs": [
        {
          "output_type": "display_data",
          "data": {
            "image/png": "[encoded data removed]",
            "text/plain": [
              "<Figure size 1080x360 with 2 Axes>"
            ]
          },
          "metadata": {
            "needs_background": "light"
          }
        }
      ]
    },
    {
      "cell_type": "markdown",
      "metadata": {
        "id": "HCkdJhhbBjrl"
      },
      "source": [
        "# Training best model on 100% of train dataset\n",
        "\n",
        "looks like our hybrid model with pretrained encoders got best results, let's train it on 100% of train dataset"
      ]
    },
    {
      "cell_type": "markdown",
      "metadata": {
        "id": "Q07KZdWPCLdn"
      },
      "source": [
        "recreate model"
      ]
    },
    {
      "cell_type": "code",
      "metadata": {
        "colab": {
          "base_uri": "https://localhost:8080/"
        },
        "id": "pNaAoHQ3_jQB",
        "outputId": "6eb09517-ad12-43e5-8043-bc26962613c4"
      },
      "source": [
        "# short description model\n",
        "short_description_inputs = tf.keras.layers.Input(shape = [], dtype = tf.string, name = \"short_description_input\")\n",
        "embed = embed_description(short_description_inputs)\n",
        "short_description_outputs = tf.keras.layers.Dense(100, activation = \"relu\", name = \"short_description_model_output\")(embed)\n",
        "\n",
        "# headlines model\n",
        "headline_inputs = tf.keras.layers.Input(shape = [], dtype = tf.string, name = \"headlines_input\")\n",
        "embed = embed_headline(headline_inputs)\n",
        "headline_outputs = tf.keras.layers.Dense(50, activation = \"relu\", name = \"headline_model_output\")(embed)\n",
        "\n",
        "# concatenate short description and headline outputs\n",
        "x = tf.keras.layers.Concatenate()([short_description_outputs, headline_outputs])\n",
        "\n",
        "# add dropout layer to avoid overfitting\n",
        "x = tf.keras.layers.Dropout(0.5)(x)\n",
        "\n",
        "# output layer\n",
        "outputs = tf.keras.layers.Dense(len(class_names), activation = \"softmax\", name = \"output_layer\")(x)\n",
        "\n",
        "\n",
        "\n",
        "# create hybrid model\n",
        "hybrid_model_use = tf.keras.Model(inputs = [headline_inputs, short_description_inputs], outputs = outputs)\n",
        "\n",
        "# compile model\n",
        "hybrid_model_use.compile(optimizer = tf.keras.optimizers.Adam(),\n",
        "                     loss = tf.keras.losses.categorical_crossentropy,\n",
        "                     metrics = [\"accuracy\"])\n",
        "\n",
        "# check model summary\n",
        "hybrid_model_use.summary()"
      ],
      "execution_count": 48,
      "outputs": [
        {
          "output_type": "stream",
          "name": "stdout",
          "text": [
            "Model: \"model_6\"\n",
            "__________________________________________________________________________________________________\n",
            "Layer (type)                    Output Shape         Param #     Connected to                     \n",
            "==================================================================================================\n",
            "short_description_input (InputL [(None,)]            0                                            \n",
            "__________________________________________________________________________________________________\n",
            "headlines_input (InputLayer)    [(None,)]            0                                            \n",
            "__________________________________________________________________________________________________\n",
            "keras_layer (KerasLayer)        (None, 512)          256797824   short_description_input[0][0]    \n",
            "__________________________________________________________________________________________________\n",
            "keras_layer_1 (KerasLayer)      (None, 512)          256797824   headlines_input[0][0]            \n",
            "__________________________________________________________________________________________________\n",
            "short_description_model_output  (None, 100)          51300       keras_layer[1][0]                \n",
            "__________________________________________________________________________________________________\n",
            "headline_model_output (Dense)   (None, 50)           25650       keras_layer_1[1][0]              \n",
            "__________________________________________________________________________________________________\n",
            "concatenate_2 (Concatenate)     (None, 150)          0           short_description_model_output[0]\n",
            "                                                                 headline_model_output[0][0]      \n",
            "__________________________________________________________________________________________________\n",
            "dropout_2 (Dropout)             (None, 150)          0           concatenate_2[0][0]              \n",
            "__________________________________________________________________________________________________\n",
            "output_layer (Dense)            (None, 41)           6191        dropout_2[0][0]                  \n",
            "==================================================================================================\n",
            "Total params: 513,678,789\n",
            "Trainable params: 83,141\n",
            "Non-trainable params: 513,595,648\n",
            "__________________________________________________________________________________________________\n"
          ]
        }
      ]
    },
    {
      "cell_type": "code",
      "metadata": {
        "colab": {
          "base_uri": "https://localhost:8080/"
        },
        "id": "hMQqZh6aCStD",
        "outputId": "d48e3c39-9cb7-423d-bcd7-f10e3b3f7012"
      },
      "source": [
        "# fit the model\n",
        "history_hybrid_use = hybrid_model_use.fit(train_dataset,\n",
        "                                          epochs = 5,\n",
        "                                          steps_per_epoch = len(train_dataset),\n",
        "                                          validation_data = test_dataset,\n",
        "                                          validation_steps = int(0.2*len(test_dataset)), # use 20% of test data for validation\n",
        "                                          )"
      ],
      "execution_count": 49,
      "outputs": [
        {
          "output_type": "stream",
          "name": "stdout",
          "text": [
            "Epoch 1/5\n",
            "5022/5022 [==============================] - 154s 30ms/step - loss: 1.8061 - accuracy: 0.5177 - val_loss: 1.3499 - val_accuracy: 0.6122\n",
            "Epoch 2/5\n",
            "5022/5022 [==============================] - 151s 30ms/step - loss: 1.5161 - accuracy: 0.5751 - val_loss: 1.2802 - val_accuracy: 0.6276\n",
            "Epoch 3/5\n",
            "5022/5022 [==============================] - 149s 30ms/step - loss: 1.4710 - accuracy: 0.5856 - val_loss: 1.2513 - val_accuracy: 0.6353\n",
            "Epoch 4/5\n",
            "5022/5022 [==============================] - 149s 30ms/step - loss: 1.4475 - accuracy: 0.5901 - val_loss: 1.2373 - val_accuracy: 0.6366\n",
            "Epoch 5/5\n",
            "5022/5022 [==============================] - 149s 30ms/step - loss: 1.4306 - accuracy: 0.5937 - val_loss: 1.2269 - val_accuracy: 0.6388\n"
          ]
        }
      ]
    },
    {
      "cell_type": "markdown",
      "metadata": {
        "id": "wKg2fygRHf7a"
      },
      "source": [
        "# Fine-tuning\n",
        "\n",
        "Makins USE layers trainable and fine-tuning our model"
      ]
    },
    {
      "cell_type": "code",
      "metadata": {
        "colab": {
          "base_uri": "https://localhost:8080/"
        },
        "id": "8yAzRSVGCj-Z",
        "outputId": "6271dce5-732d-4fd1-d16e-e363e98b49f5"
      },
      "source": [
        "embed_description.trainable = True\n",
        "embed_headline.trainable = True\n",
        "\n",
        "# recompile model to apply changes\n",
        "\n",
        "hybrid_model_use.compile(optimizer = tf.keras.optimizers.Adam(learning_rate = 0.0001), # use lower learning rate while fine-tuning\n",
        "                     loss = tf.keras.losses.categorical_crossentropy,\n",
        "                     metrics = [\"accuracy\"])\n",
        "\n",
        "# check model summary\n",
        "hybrid_model_use.summary()"
      ],
      "execution_count": 50,
      "outputs": [
        {
          "output_type": "stream",
          "name": "stdout",
          "text": [
            "Model: \"model_6\"\n",
            "__________________________________________________________________________________________________\n",
            "Layer (type)                    Output Shape         Param #     Connected to                     \n",
            "==================================================================================================\n",
            "short_description_input (InputL [(None,)]            0                                            \n",
            "__________________________________________________________________________________________________\n",
            "headlines_input (InputLayer)    [(None,)]            0                                            \n",
            "__________________________________________________________________________________________________\n",
            "keras_layer (KerasLayer)        (None, 512)          256797824   short_description_input[0][0]    \n",
            "__________________________________________________________________________________________________\n",
            "keras_layer_1 (KerasLayer)      (None, 512)          256797824   headlines_input[0][0]            \n",
            "__________________________________________________________________________________________________\n",
            "short_description_model_output  (None, 100)          51300       keras_layer[1][0]                \n",
            "__________________________________________________________________________________________________\n",
            "headline_model_output (Dense)   (None, 50)           25650       keras_layer_1[1][0]              \n",
            "__________________________________________________________________________________________________\n",
            "concatenate_2 (Concatenate)     (None, 150)          0           short_description_model_output[0]\n",
            "                                                                 headline_model_output[0][0]      \n",
            "__________________________________________________________________________________________________\n",
            "dropout_2 (Dropout)             (None, 150)          0           concatenate_2[0][0]              \n",
            "__________________________________________________________________________________________________\n",
            "output_layer (Dense)            (None, 41)           6191        dropout_2[0][0]                  \n",
            "==================================================================================================\n",
            "Total params: 513,678,789\n",
            "Trainable params: 513,678,789\n",
            "Non-trainable params: 0\n",
            "__________________________________________________________________________________________________\n"
          ]
        }
      ]
    },
    {
      "cell_type": "code",
      "metadata": {
        "colab": {
          "base_uri": "https://localhost:8080/"
        },
        "id": "H7AqLJZmIJUK",
        "outputId": "de33930f-54bf-457a-9379-7ba38d364fd8"
      },
      "source": [
        "# fit the model\n",
        "history_hybrid_use_fine_tuning = hybrid_model_use.fit(train_dataset,\n",
        "                                                      epochs = 7,\n",
        "                                                      initial_epoch = 5,\n",
        "                                                      steps_per_epoch = len(train_dataset),\n",
        "                                                      validation_data = test_dataset,\n",
        "                                                      validation_steps = int(0.2*len(test_dataset)), # use 20% of test data for validation\n",
        "                                                      )"
      ],
      "execution_count": 51,
      "outputs": [
        {
          "output_type": "stream",
          "name": "stdout",
          "text": [
            "Epoch 6/7\n",
            "5022/5022 [==============================] - 2302s 456ms/step - loss: 1.3839 - accuracy: 0.6053 - val_loss: 1.1764 - val_accuracy: 0.6521\n",
            "Epoch 7/7\n",
            "5022/5022 [==============================] - 2292s 456ms/step - loss: 1.2039 - accuracy: 0.6521 - val_loss: 1.1410 - val_accuracy: 0.6594\n"
          ]
        }
      ]
    },
    {
      "cell_type": "code",
      "metadata": {
        "id": "4KvQv1jkjBAa",
        "colab": {
          "base_uri": "https://localhost:8080/"
        },
        "outputId": "75ec7456-4be4-4596-baf4-f7768d8ce771"
      },
      "source": [
        "# evaluate model\n",
        "hybrid_model_use.evaluate(test_dataset)"
      ],
      "execution_count": 52,
      "outputs": [
        {
          "output_type": "stream",
          "name": "stdout",
          "text": [
            "1256/1256 [==============================] - 33s 26ms/step - loss: 1.1642 - accuracy: 0.6559\n"
          ]
        },
        {
          "output_type": "execute_result",
          "data": {
            "text/plain": [
              "[1.164182424545288, 0.6558960676193237]"
            ]
          },
          "metadata": {},
          "execution_count": 52
        }
      ]
    },
    {
      "cell_type": "markdown",
      "metadata": {
        "id": "Ck6OYCaYSXze"
      },
      "source": [
        "# Analyze model's results"
      ]
    },
    {
      "cell_type": "code",
      "metadata": {
        "colab": {
          "base_uri": "https://localhost:8080/",
          "height": 367
        },
        "id": "-H7RkDtPPZtB",
        "outputId": "beb9a909-6f03-46b7-e3b2-9700ee9c3806"
      },
      "source": [
        "# plot loss and accuracy curves\n",
        "\n",
        "loss = history_hybrid_use.history[\"val_loss\"]\n",
        "accuracy = history_hybrid_use.history[\"val_accuracy\"]\n",
        "\n",
        "loss_fine_tuning = history_hybrid_use_fine_tuning.history[\"val_loss\"]\n",
        "accuracy_fine_tuning = history_hybrid_use_fine_tuning.history[\"val_accuracy\"]\n",
        "\n",
        "plt.figure(figsize = (15,5))\n",
        "plt.subplot(1,2,1)\n",
        "plt.scatter(range(1,6), loss)\n",
        "plt.scatter([6,7], loss_fine_tuning)\n",
        "plt.legend([\"encoder layers not trainable\", \"encoder layers trainable\"])\n",
        "plt.title(\"loss curve\")\n",
        "plt.xlabel(\"epoch\")\n",
        "plt.ylabel(\"loss\")\n",
        "\n",
        "plt.subplot(1,2,2)\n",
        "plt.scatter(range(1,6), accuracy)\n",
        "plt.scatter([6,7], accuracy_fine_tuning)\n",
        "plt.legend([\"encoder layers not trainable\", \"encoder layers trainable\"])\n",
        "plt.title(\"accuracy curve\")\n",
        "plt.xlabel(\"epoch\")\n",
        "plt.ylabel(\"accuracy\")\n"
      ],
      "execution_count": 77,
      "outputs": [
        {
          "output_type": "execute_result",
          "data": {
            "text/plain": [
              "Text(0, 0.5, 'accuracy')"
            ]
          },
          "metadata": {},
          "execution_count": 77
        },
        {
          "output_type": "display_data",
          "data": {
            "image/png": "[encoded data removed]",
            "text/plain": [
              "<Figure size 1080x360 with 2 Axes>"
            ]
          },
          "metadata": {
            "needs_background": "light"
          }
        }
      ]
    },
    {
      "cell_type": "code",
      "metadata": {
        "id": "IpGUoMnzQnc-"
      },
      "source": [
        "# get model predictions and true labels\n",
        "true_labels = []\n",
        "predictions = []\n",
        "\n",
        "for data, label in test_dataset.take(-1):\n",
        "  true_labels.append(label)\n",
        "  predictions.append(tf.argmax(hybrid_model_use.predict(data), axis = 1))\n",
        "\n",
        "true_labels = np.concatenate(true_labels)\n",
        "predictions = np.concatenate(predictions)  "
      ],
      "execution_count": 83,
      "outputs": []
    },
    {
      "cell_type": "code",
      "metadata": {
        "id": "sZ1uDFfuSowK"
      },
      "source": [
        "true_labels = tf.argmax(true_labels, axis = 1)"
      ],
      "execution_count": 86,
      "outputs": []
    },
    {
      "cell_type": "code",
      "metadata": {
        "colab": {
          "base_uri": "https://localhost:8080/"
        },
        "id": "t1cdl9iDUNli",
        "outputId": "c7176bf7-4e76-42cb-d22b-d271d7781a3d"
      },
      "source": [
        "true_labels[:10]"
      ],
      "execution_count": 87,
      "outputs": [
        {
          "output_type": "execute_result",
          "data": {
            "text/plain": [
              "<tf.Tensor: shape=(10,), dtype=int64, numpy=array([37,  6, 26, 24, 38, 22, 10, 33, 38, 40])>"
            ]
          },
          "metadata": {},
          "execution_count": 87
        }
      ]
    },
    {
      "cell_type": "code",
      "metadata": {
        "colab": {
          "base_uri": "https://localhost:8080/"
        },
        "id": "S0w2ls7hUGaf",
        "outputId": "9dbbcff7-0cd0-4ee1-a08c-f8233fdca82a"
      },
      "source": [
        "predictions[:10]"
      ],
      "execution_count": 149,
      "outputs": [
        {
          "output_type": "execute_result",
          "data": {
            "text/plain": [
              "array([37,  2, 26, 24, 18, 22, 10, 33, 38, 40])"
            ]
          },
          "metadata": {},
          "execution_count": 149
        }
      ]
    },
    {
      "cell_type": "code",
      "metadata": {
        "colab": {
          "base_uri": "https://localhost:8080/"
        },
        "id": "HLP5icufbmZx",
        "outputId": "8179d927-f95e-42a5-8942-4613c19bbf6d"
      },
      "source": [
        "# get classification report\n",
        "from sklearn.metrics import classification_report\n",
        "\n",
        "print(classification_report(true_labels, predictions, target_names=class_names))"
      ],
      "execution_count": 150,
      "outputs": [
        {
          "output_type": "stream",
          "name": "stdout",
          "text": [
            "                precision    recall  f1-score   support\n",
            "\n",
            "          ARTS       0.53      0.38      0.44       316\n",
            "ARTS & CULTURE       0.56      0.23      0.33       269\n",
            "  BLACK VOICES       0.54      0.38      0.45       897\n",
            "      BUSINESS       0.53      0.51      0.52      1177\n",
            "       COLLEGE       0.54      0.31      0.39       241\n",
            "        COMEDY       0.60      0.39      0.47       988\n",
            "         CRIME       0.57      0.59      0.58       667\n",
            "CULTURE & ARTS       0.50      0.33      0.39       217\n",
            "       DIVORCE       0.78      0.75      0.77       660\n",
            "     EDUCATION       0.50      0.30      0.37       195\n",
            " ENTERTAINMENT       0.64      0.80      0.71      3227\n",
            "   ENVIRONMENT       0.53      0.36      0.43       261\n",
            "         FIFTY       0.48      0.11      0.17       292\n",
            "  FOOD & DRINK       0.64      0.84      0.73      1219\n",
            "     GOOD NEWS       0.44      0.19      0.26       309\n",
            "         GREEN       0.44      0.38      0.41       488\n",
            "HEALTHY LIVING       0.51      0.40      0.45      1326\n",
            " HOME & LIVING       0.76      0.76      0.76       840\n",
            "        IMPACT       0.46      0.29      0.35       694\n",
            " LATINO VOICES       0.66      0.24      0.35       212\n",
            "         MEDIA       0.70      0.35      0.46       570\n",
            "         MONEY       0.61      0.47      0.53       364\n",
            "     PARENTING       0.59      0.72      0.65      1742\n",
            "       PARENTS       0.55      0.34      0.42       793\n",
            "      POLITICS       0.73      0.85      0.79      6516\n",
            "  QUEER VOICES       0.78      0.69      0.73      1272\n",
            "      RELIGION       0.65      0.59      0.61       545\n",
            "       SCIENCE       0.63      0.46      0.53       412\n",
            "        SPORTS       0.76      0.78      0.77       978\n",
            "         STYLE       0.57      0.40      0.47       467\n",
            "STYLE & BEAUTY       0.81      0.84      0.83      1929\n",
            "         TASTE       0.47      0.12      0.19       403\n",
            "          TECH       0.62      0.51      0.56       433\n",
            " THE WORLDPOST       0.52      0.70      0.60       693\n",
            "        TRAVEL       0.75      0.83      0.79      1965\n",
            "      WEDDINGS       0.85      0.74      0.79       771\n",
            "    WEIRD NEWS       0.45      0.40      0.42       504\n",
            "      WELLNESS       0.63      0.88      0.74      3657\n",
            "         WOMEN       0.50      0.32      0.39       693\n",
            "    WORLD NEWS       0.32      0.02      0.03       427\n",
            "     WORLDPOST       0.57      0.62      0.59       542\n",
            "\n",
            "      accuracy                           0.66     40171\n",
            "     macro avg       0.59      0.49      0.52     40171\n",
            "  weighted avg       0.64      0.66      0.64     40171\n",
            "\n"
          ]
        }
      ]
    }
  ]
}
